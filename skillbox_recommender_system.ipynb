{
 "cells": [
  {
   "cell_type": "markdown",
   "id": "43cc749a-e9a7-4caf-9d21-289fccef7b6e",
   "metadata": {
    "jp-MarkdownHeadingCollapsed": true,
    "tags": []
   },
   "source": [
    "### Library loading"
   ]
  },
  {
   "cell_type": "code",
   "execution_count": 1,
   "id": "98065fb5-e94b-4ada-a82e-206bd779fb27",
   "metadata": {
    "tags": []
   },
   "outputs": [],
   "source": [
    "from IPython.display import Markdown as md\n",
    "from pathlib import Path\n",
    "from shutil import unpack_archive\n",
    "from pickle import dump, load\n",
    "import numpy as np\n",
    "import pandas as pd\n",
    "from itertools import product\n",
    "import matplotlib\n",
    "matplotlib.rcParams['font.family'] = 'Segoe UI'\n",
    "import matplotlib.pyplot as plt\n",
    "%matplotlib inline\n",
    "import functions as f\n",
    "from kaggle import Kaggle"
   ]
  },
  {
   "cell_type": "markdown",
   "id": "37c3fbfb-cade-47f5-a8cd-39845b7f2b99",
   "metadata": {
    "jp-MarkdownHeadingCollapsed": true,
    "tags": []
   },
   "source": [
    "### Main settings"
   ]
  },
  {
   "cell_type": "code",
   "execution_count": 2,
   "id": "c68d8142-84bb-4068-adc3-1787269f953d",
   "metadata": {
    "tags": []
   },
   "outputs": [],
   "source": [
    "COMPETITION = 'skillbox-recommender-system'            # Competition name on Kaggle platform\n",
    "PROJECT_PATH = Path('D:/skillbox-recommender-system')  # Project folder path\n",
    "DATA_PATH = PROJECT_PATH / 'data'                      # Data folder path\n",
    "TRANSACTIONS_PATH = DATA_PATH / 'transactions.csv'     # Path to transaction log file\n",
    "PRODUCTS_PATH = DATA_PATH / 'products.csv'             # Path to product regisry file\n",
    "EVAL_PATH = PROJECT_PATH / 'eval'                      # Path to evaluation file\n",
    "WORKERS = 4                                            # Number of parallel computing processes"
   ]
  },
  {
   "cell_type": "markdown",
   "id": "e88a7752-a069-4ea9-be77-4a1694c7e4e9",
   "metadata": {
    "jp-MarkdownHeadingCollapsed": true,
    "tags": []
   },
   "source": [
    "### Auxiliary functions"
   ]
  },
  {
   "cell_type": "code",
   "execution_count": 3,
   "id": "9f2f3d68-ce2b-4d04-bfb8-f35af87b140b",
   "metadata": {},
   "outputs": [],
   "source": [
    "def multiprocessing(workers:int =WORKERS, data_path=DATA_PATH,\n",
    "                    start: float = 0.0, stop: float = 1.0, num: int = 11,\n",
    "                    func: str ='get_map10_by_rates', \n",
    "                    days_rate: float = 0.0, cart_rate: float = 0.0):\n",
    "    '''\n",
    "    Runs parallel computing processes script `multiproc.py`  with the required parameters.\n",
    "    \n",
    "    Arguments:\n",
    "    workers - number of parallel processes\n",
    "    data_path - data folder path\n",
    "    func - performing function (см. multiproc.py)\n",
    "    start, stop, num - start and end value of argument and value changing step\n",
    "    days_rate - filtering rate by order day\n",
    "    cart_rate - filtering rate by product add to cart order\n",
    "    '''\n",
    "\n",
    "    %run -t multiproc \\\n",
    "        --workers={workers} --data_path={data_path} \\\n",
    "        --start={start} --stop={stop} --num={num} \\\n",
    "        --func={func} --days_rate={days_rate} --cart_rate={cart_rate}\n",
    "    \n",
    "    with open(DATA_PATH / 'precisions.dmp', 'rb') as fp:\n",
    "        map10 = load(fp)\n",
    "    \n",
    "    return map10"
   ]
  },
  {
   "cell_type": "code",
   "execution_count": 4,
   "id": "d0672778-a52c-4c3a-aa4c-3038e2720150",
   "metadata": {},
   "outputs": [],
   "source": [
    "def load_data(file_name: str):\n",
    "    '''\n",
    "    Saves data dump to the local storage.\n",
    "    '''\n",
    "    file_path = DATA_PATH / file_name\n",
    "    with open(file_path, 'rb') as fp:\n",
    "        obj = load(fp)\n",
    "    return obj"
   ]
  },
  {
   "cell_type": "code",
   "execution_count": 5,
   "id": "148c3b1f-62d5-4e30-8e27-5eec669e3f7b",
   "metadata": {},
   "outputs": [],
   "source": [
    "def save_data(obj, file_name: str):\n",
    "    '''\n",
    "    Loads data dump from the local storage.\n",
    "    '''\n",
    "    file_path = DATA_PATH / file_name\n",
    "    with open(file_path, 'wb') as fp:\n",
    "        dump(obj, fp)"
   ]
  },
  {
   "cell_type": "markdown",
   "id": "f7b87b24-928c-479c-b5c8-4dff8c962d37",
   "metadata": {
    "jp-MarkdownHeadingCollapsed": true,
    "tags": []
   },
   "source": [
    "### Data loading"
   ]
  },
  {
   "cell_type": "code",
   "execution_count": 6,
   "id": "e48039b6-dbad-4097-a6be-134c0430ae58",
   "metadata": {},
   "outputs": [],
   "source": [
    "kaggle = Kaggle(COMPETITION, verbose=1)"
   ]
  },
  {
   "cell_type": "code",
   "execution_count": 7,
   "id": "942d4d50-7044-4a08-bef3-eea0e64d7847",
   "metadata": {},
   "outputs": [],
   "source": [
    "if not PROJECT_PATH.exists():\n",
    "    PROJECT_PATH.mkdir()\n",
    "    \n",
    "if not DATA_PATH.exists():\n",
    "    DATA_PATH.mkdir()"
   ]
  },
  {
   "cell_type": "markdown",
   "id": "0cb11888-59ff-4a6a-8ea2-f450ac9b36a2",
   "metadata": {
    "tags": []
   },
   "source": [
    "#### Transaction log"
   ]
  },
  {
   "cell_type": "markdown",
   "id": "40246ac6-cfc3-4e2e-89ee-bdcf3362a8d7",
   "metadata": {},
   "source": [
    "**Transaction log** contains the following fields:\n",
    "- `order_id` - transaction unique identifier\n",
    "- `user_id` - customer unique identifier\n",
    "- `order_number` - customer's order number\n",
    "- `order_dow` - day of week of order\n",
    "- `order_hour_of_day` - hour of order\n",
    "- `days_since_prior_order` - number of days since the previous order by the customer\n",
    "- `product_id` - product identifier\n",
    "- `add_to_cart_order` - the order under which the product was added to the cart\n",
    "- `reordered` - whether the product was in previous order"
   ]
  },
  {
   "cell_type": "markdown",
   "id": "9b405e92-4a29-4abb-99a3-3c5aece1c818",
   "metadata": {},
   "source": [
    "Because we don’t know when (days after the last purchase) and at what time the customers will make their next orders, such information as the day of the week (field `order_dow`) and the time of making orders (`order_hour_of_day`) it doesn’t really help us. So it makes sense to exclude this information from the dataset. Also, it is unlikely information about the transaction identifier (`order_id`) and product reordering (`reordered`) can help to solve the task."
   ]
  },
  {
   "cell_type": "code",
   "execution_count": 275,
   "id": "a7c460b4-28df-4ff6-af46-968902ad43e3",
   "metadata": {},
   "outputs": [],
   "source": [
    "file_path = TRANSACTIONS_PATH.with_suffix('.dmp')\n",
    "if not file_path.exists():\n",
    "    if not TRANSACTIONS_PATH.with_suffix('.csv.zip').exists():\n",
    "        kaggle.download_data_files([TRANSACTIONS_PATH.name], DATA_PATH)\n",
    "    if TRANSACTIONS_PATH.with_suffix('.csv.zip').exists():\n",
    "        unpack_archive(TRANSACTIONS_PATH.with_suffix('.csv.zip'), DATA_PATH)\n",
    "        transactions = pd.read_csv(TRANSACTIONS_PATH, usecols=['user_id', 'order_number', 'days_since_prior_order', \n",
    "                                                               'product_id', 'add_to_cart_order'])\n",
    "        \n",
    "        with open(file_path, 'wb') as fp:\n",
    "            dump(transactions, fp)\n",
    "else:\n",
    "    with open(file_path, 'rb') as fp:\n",
    "        transactions = load(fp)"
   ]
  },
  {
   "cell_type": "code",
   "execution_count": 279,
   "id": "04c71e87-4f92-41ca-9f3b-fea7e78cfb74",
   "metadata": {},
   "outputs": [
    {
     "data": {
      "text/plain": [
       "49465"
      ]
     },
     "execution_count": 279,
     "metadata": {},
     "output_type": "execute_result"
    }
   ],
   "source": [
    "transactions['product_id'].nunique()"
   ]
  },
  {
   "cell_type": "code",
   "execution_count": 280,
   "id": "e93bf7fe-f55b-47c7-9dfc-12bf4b71b8b0",
   "metadata": {},
   "outputs": [
    {
     "name": "stdout",
     "output_type": "stream",
     "text": [
      "<class 'pandas.core.frame.DataFrame'>\n",
      "RangeIndex: 26408073 entries, 0 to 26408072\n",
      "Data columns (total 5 columns):\n",
      " #   Column                  Dtype  \n",
      "---  ------                  -----  \n",
      " 0   user_id                 int64  \n",
      " 1   order_number            int64  \n",
      " 2   days_since_prior_order  float64\n",
      " 3   product_id              int64  \n",
      " 4   add_to_cart_order       float64\n",
      "dtypes: float64(2), int64(3)\n",
      "memory usage: 1007.4 MB\n"
     ]
    }
   ],
   "source": [
    "transactions.info()"
   ]
  },
  {
   "cell_type": "markdown",
   "id": "86d9954f-11b6-495c-b041-ecbeb851e814",
   "metadata": {
    "tags": []
   },
   "source": [
    "#### Product registry"
   ]
  },
  {
   "cell_type": "markdown",
   "id": "aa6ef575-54e1-46a7-9d89-772e134de5b3",
   "metadata": {},
   "source": [
    "**Product registry** contains fields:\n",
    "- `product_id` - product unique identifier\n",
    "- `product_name` - product name\n",
    "- `aisle_id` - aisle unique identifier\n",
    "- `department_id` - department unique identifier\n",
    "- `aisle` - aisle name\n",
    "- `department` - department name"
   ]
  },
  {
   "cell_type": "code",
   "execution_count": 267,
   "id": "9c391998-d747-4483-848c-35185daaa1e6",
   "metadata": {},
   "outputs": [],
   "source": [
    "file_path = PRODUCTS_PATH.with_suffix('.dmp')\n",
    "if not file_path.exists():\n",
    "    if not PRODUCTS_PATH.with_suffix('.csv.zip').exists():\n",
    "        kaggle.download_data_files([PRODUCTS_PATH.name], DATA_PATH)\n",
    "    if PRODUCTS_PATH.with_suffix('.csv.zip').exists():\n",
    "        unpack_archive(PRODUCTS_PATH.with_suffix('.csv.zip'), DATA_PATH)\n",
    "    products = pd.read_csv(PRODUCTS_PATH)\n",
    "    with open(file_path, 'wb') as fp:\n",
    "        dump(products, fp)\n",
    "else:\n",
    "    with open(file_path, 'rb') as fp:\n",
    "        products = load(fp)    "
   ]
  },
  {
   "cell_type": "markdown",
   "id": "b028dd72-c983-4ee6-aeb6-4e490d5baadf",
   "metadata": {
    "jp-MarkdownHeadingCollapsed": true,
    "tags": []
   },
   "source": [
    "### Model development hypothesis"
   ]
  },
  {
   "cell_type": "markdown",
   "id": "b3b95174-f1e5-4d85-93b0-5f876010dfd6",
   "metadata": {},
   "source": [
    "The store sells food. An important feature of food sales is that people tend to buy about the same products. Of course, sometimes customers' preferences change, they try new products. But changes in product preferences occur systematically. I.e. the basic set of products is quite stable. Of course, in the lives of people periodically occur various events (birthdays, visitors, travel, etc.), which affect the grocery pack they buy. But for most people, these events don’t happen very often. So suppose that by detecting the set of products that the customer has most often ordered, especially recently, we can understand what products should be offered to him to buy.\n",
    "\n",
    "Attention should also be paid to the order in which products are added to the basket. This feature may indirectly indicate the importance of a product to the customer. We usually put the most important products in the basket first."
   ]
  },
  {
   "cell_type": "markdown",
   "id": "9b1cf321-d6f9-4fee-b4a5-1dd61ba16c9f",
   "metadata": {
    "jp-MarkdownHeadingCollapsed": true,
    "tags": []
   },
   "source": [
    "### Data preprocessing"
   ]
  },
  {
   "cell_type": "markdown",
   "id": "141e14e1-1bf3-444a-ad4e-7c1cd2121b43",
   "metadata": {},
   "source": [
    "According to the proposed hypnosis to predict purchases you need to take into account the history of purchases of products. This requires a time stamp of shopping. However, in the original dataset there is only information about the number of days between purchases ([`days_since_prior_oder`). Therefore, we cannot retriev an absolute time scale of orders, but only a relative one. Because, according to the concept, it is important to know how long ago the other purchases were made relative to the planned, then the timeline should be counted from the last known purchase. To do this, add a feature to the transaction log, which will show the number of days from each purchase of the customer to his last purchase ([`days_before_last_order`). And further by ***order time*** we mean just ***value of this feature**.\n",
    "\n",
    "Additionally, we will consider orders made on the same day as one order. We will combine the products present in them, and make the order of adding to the cart continuous. We will assume that the customer first added orders from the first order to the cart, then from the second, etc.\n",
    "\n",
    "After processing, the **transaction log** will have the following fields:\n",
    "- `user_id` - unique buyer identifier\n",
    "- `days_before_last_order` - number of days since the previous transaction was made by this customer\n",
    "- `product_id` - unique product identifier\n",
    "- `add_to_cart_order` - number under which this product was added to the cart"
   ]
  },
  {
   "cell_type": "markdown",
   "id": "5a06c987-61ad-40f9-860a-5f84f8421ef2",
   "metadata": {},
   "source": [
    "We will train the model on all customer transactions except the latest ones. And we will check the quality of its work on the latest transactions. Therefore, we will immediately divide the transaction log into two parts:\n",
    "- the latest transactions, on which we will evaluate the quality of predictions (`last_transactions`)\n",
    "- previous transactions, on the basis of which we will form the model's predictions (`prior_transactions`).\n",
    "\n",
    "In addition, to evaluate the accuracy of the model's predictions during validation, a list of products in the latest purchases (`last_products`) will be required."
   ]
  },
  {
   "cell_type": "code",
   "execution_count": 10,
   "id": "28f5c672-2004-4f2a-b580-a968d2317313",
   "metadata": {
    "tags": []
   },
   "outputs": [],
   "source": [
    "file_paths = [DATA_PATH / file_name \n",
    "              for file_name in ['prior_transactions.dmp', 'last_transactions.dmp', 'last_products.dmp']]\n",
    "if any(not file_path.exists() for file_path in file_paths):\n",
    "    prior_transactions, last_transactions, last_products = f.preprocess_transactions(transactions)\n",
    "    del transactions\n",
    "    save_data(prior_transactions, 'prior_transactions.dmp')\n",
    "    save_data(last_transactions, 'last_transactions.dmp')\n",
    "    save_data(last_products, 'last_products.dmp')\n",
    "else:\n",
    "    prior_transactions = load_data('prior_transactions.dmp')\n",
    "    last_transactions = load_data('last_transactions.dmp')\n",
    "    last_products = load_data('last_products.dmp')"
   ]
  },
  {
   "cell_type": "markdown",
   "id": "0d73350f-a442-40a4-942e-3a98aca7f384",
   "metadata": {
    "jp-MarkdownHeadingCollapsed": true,
    "tags": []
   },
   "source": [
    "### Statistical analysis of data"
   ]
  },
  {
   "cell_type": "markdown",
   "id": "80700192-f18c-48b9-ba2a-91297dc9dcb4",
   "metadata": {},
   "source": [
    "To confirm the hypothesis, we will perform a statistical analysis of the data. First, we will find out what part of the products from the customers' last order were purchased by them earlier."
   ]
  },
  {
   "cell_type": "markdown",
   "id": "0000459a-3208-4584-9196-dcca11b3a60a",
   "metadata": {},
   "source": [
    "To do this, for each product of the last order of each customer, we find the orders of this customer in which it was previously encountered."
   ]
  },
  {
   "cell_type": "code",
   "execution_count": 11,
   "id": "679250cc-798c-45ae-bcb3-1f3715ca2e27",
   "metadata": {
    "tags": []
   },
   "outputs": [],
   "source": [
    "products_reordering = prior_transactions\\\n",
    "    .merge(last_transactions[['user_id', 'product_id']], on=['user_id', 'product_id'], how='right')\n",
    "products_reordering['days_before_last_order'] += products_reordering['days_before_last_order_shift']"
   ]
  },
  {
   "cell_type": "code",
   "execution_count": 12,
   "id": "d96af5bd-6a2f-4260-90ed-c1e3aa4fd488",
   "metadata": {},
   "outputs": [],
   "source": [
    "prior_ordered_fraction = products_reordering['days_before_last_order'].count() / products_reordering['days_before_last_order'].shape[0] * 100"
   ]
  },
  {
   "cell_type": "code",
   "execution_count": 13,
   "id": "1eac905d-a886-488b-a687-a82031535c49",
   "metadata": {},
   "outputs": [
    {
     "data": {
      "image/png": "[encoded data removed]",
      "text/plain": [
       "<Figure size 640x480 with 1 Axes>"
      ]
     },
     "metadata": {},
     "output_type": "display_data"
    }
   ],
   "source": [
    "plot_data = pd.DataFrame()\n",
    "plot_data['x'] = pd.Categorical(['Previously purchased products', 'New products'])\n",
    "plot_data['y'] = [prior_ordered_fraction, 100 - prior_ordered_fraction]\n",
    "fig, ax = plt.subplots()\n",
    "_ = ax.bar(x=plot_data['x'], height=plot_data['y'])\n",
    "ax.set_title('Percentage of products in recent order depending on presence in previous orders')\n",
    "ax.set_xlabel('Category')\n",
    "_ = ax.set_ylabel('Percentage')\n",
    "\n",
    "# Saving data\n",
    "save_data(plot_data, 'plot_reordering_prop_data.dmp')"
   ]
  },
  {
   "cell_type": "markdown",
   "id": "21d1142c-4cfa-4a86-806e-abc58bb9048d",
   "metadata": {
    "tags": []
   },
   "source": [
    "Then, for each customer, we find the percentage of products from the last order that he or she has already purchased before, and display the distribution of this value using a histogram."
   ]
  },
  {
   "cell_type": "code",
   "execution_count": 57,
   "id": "039478b8-ebdf-406b-9b98-0f685a2ff792",
   "metadata": {
    "tags": []
   },
   "outputs": [],
   "source": [
    "products_reordering_percentages = products_reordering.groupby('user_id')\\\n",
    "    .count().rename(columns={'product_id': 'products_total', 'days_before_last_order': 'reordered_products'})\n",
    "products_reordering_percentages['reordered_percentage'] = \\\n",
    "    products_reordering_percentages['reordered_products'] / products_reordering_percentages['products_total'] * 100"
   ]
  },
  {
   "cell_type": "code",
   "execution_count": 61,
   "id": "50049a55-83af-4b2b-9889-48e969544f34",
   "metadata": {},
   "outputs": [
    {
     "data": {
      "text/plain": [
       "range                   interval[float64, right]\n",
       "number_of_customers                        int64\n",
       "reordered_percentage                     float64\n",
       "dtype: object"
      ]
     },
     "execution_count": 61,
     "metadata": {},
     "output_type": "execute_result"
    }
   ],
   "source": [
    "plot_data = products_reordering_percentages['reordered_percentage'].value_counts(bins=20).reset_index(name='number_of_customers')\n",
    "plot_data.rename(columns={'index': 'range'}, inplace=True)\n",
    "plot_data['reordered_percentage'] = plot_data['range'].map(lambda interval: (interval.left + interval.right) / 2)\n",
    "plot_data.dtypes"
   ]
  },
  {
   "cell_type": "code",
   "execution_count": 62,
   "id": "30d3f7dc-fa1c-4b72-a27e-aa2cf2e39fbd",
   "metadata": {},
   "outputs": [],
   "source": [
    "# Saving data\n",
    "save_data(plot_data, 'plot_reordering_percentages_data.dmp')"
   ]
  },
  {
   "cell_type": "code",
   "execution_count": 15,
   "id": "a1f7b88e-bc6a-4712-917d-bd87ea0e706c",
   "metadata": {
    "tags": []
   },
   "outputs": [
    {
     "data": {
      "image/png": "[encoded data removed]",
      "text/plain": [
       "<Figure size 600x400 with 1 Axes>"
      ]
     },
     "metadata": {},
     "output_type": "display_data"
    }
   ],
   "source": [
    "ax = products_reordering_percentages['reordered_percentage'].plot(\n",
    "    kind='hist', bins=20,\n",
    "    title='Distribution of customers by percentage of previously purchased products\\nin recent order',\n",
    "    figsize=(6, 4), grid=True, fontsize=10, legend=False, alpha=0.75)\n",
    "ax.set_xlabel('Percentage of previously purchased products')\n",
    "_ = ax.set_ylabel('Number of customers')"
   ]
  },
  {
   "cell_type": "markdown",
   "id": "0c67ac2a-4080-4d47-b6e2-3ed5663132ab",
   "metadata": {},
   "source": [
    "The histogram clearly shows that the vast majority of products in the customers' latest order had already been ordered by them before. That is, the assumption that customers mostly buy products that they have bought before has been confirmed."
   ]
  },
  {
   "cell_type": "markdown",
   "id": "8033b62a-e65f-4c08-93bd-b8f105aca5f9",
   "metadata": {},
   "source": [
    "Now let's test the assumption that customers' product preferences may change over time, and that this factor should be taken into account. To do this, let's plot a graph of the share of products in customers' orders that are present in their latest orders, depending on the order time, with an interval of 1 month."
   ]
  },
  {
   "cell_type": "code",
   "execution_count": 63,
   "id": "c2e9b087-3d16-46c3-963b-0883ce22a75c",
   "metadata": {
    "tags": []
   },
   "outputs": [
    {
     "data": {
      "image/png": "[encoded data removed]",
      "text/plain": [
       "<Figure size 600x400 with 1 Axes>"
      ]
     },
     "metadata": {},
     "output_type": "display_data"
    }
   ],
   "source": [
    "fig, ax = plt.subplots(figsize=(6, 4))\n",
    "x = prior_transactions['days_before_last_order'] + prior_transactions['days_before_last_order_shift']\n",
    "nbins = int(np.ceil((x.max() - x.min()) / 30))\n",
    "total_counts, bins, _ = ax.hist(x, bins=nbins)\n",
    "ax.clear()\n",
    "x = products_reordering['days_before_last_order']\n",
    "reordered_counts, _, _ = ax.hist(x, bins=nbins)\n",
    "ax.clear()\n",
    "x = [(x1 + x2) / 2 for x1, x2 in zip(bins[:-1], bins[1:])]\n",
    "y = [reordered_count / total_count * 100 for total_count, reordered_count in zip(total_counts, reordered_counts)]\n",
    "line, = ax.plot(x, y)\n",
    "line.set_alpha(0.75)\n",
    "ax.set_title('Dependence of the share of products in subsequent orders,\\n'\n",
    "             'which are present in the last order,\\n'\n",
    "             'depending on the order time')\n",
    "ax.set_xlabel('Order time [days]')\n",
    "ax.set_ylabel('Percentage of reordered products [%]')\n",
    "ax.grid()"
   ]
  },
  {
   "cell_type": "code",
   "execution_count": 64,
   "id": "db724bbc-f2fa-43ea-9d55-96dcbfb527b3",
   "metadata": {},
   "outputs": [
    {
     "data": {
      "text/html": [
       "<div>\n",
       "<style scoped>\n",
       "    .dataframe tbody tr th:only-of-type {\n",
       "        vertical-align: middle;\n",
       "    }\n",
       "\n",
       "    .dataframe tbody tr th {\n",
       "        vertical-align: top;\n",
       "    }\n",
       "\n",
       "    .dataframe thead th {\n",
       "        text-align: right;\n",
       "    }\n",
       "</style>\n",
       "<table border=\"1\" class=\"dataframe\">\n",
       "  <thead>\n",
       "    <tr style=\"text-align: right;\">\n",
       "      <th></th>\n",
       "      <th>range</th>\n",
       "      <th>order_time</th>\n",
       "      <th>reordered_percentage</th>\n",
       "    </tr>\n",
       "  </thead>\n",
       "  <tbody>\n",
       "    <tr>\n",
       "      <th>0</th>\n",
       "      <td>(1.0, 29.0]</td>\n",
       "      <td>15.0</td>\n",
       "      <td>28.018811</td>\n",
       "    </tr>\n",
       "    <tr>\n",
       "      <th>1</th>\n",
       "      <td>(29.0, 57.0]</td>\n",
       "      <td>43.0</td>\n",
       "      <td>25.347300</td>\n",
       "    </tr>\n",
       "    <tr>\n",
       "      <th>2</th>\n",
       "      <td>(57.0, 85.0]</td>\n",
       "      <td>71.0</td>\n",
       "      <td>22.788222</td>\n",
       "    </tr>\n",
       "    <tr>\n",
       "      <th>3</th>\n",
       "      <td>(85.0, 113.0]</td>\n",
       "      <td>99.0</td>\n",
       "      <td>21.106851</td>\n",
       "    </tr>\n",
       "    <tr>\n",
       "      <th>4</th>\n",
       "      <td>(113.0, 141.0]</td>\n",
       "      <td>127.0</td>\n",
       "      <td>20.158093</td>\n",
       "    </tr>\n",
       "    <tr>\n",
       "      <th>5</th>\n",
       "      <td>(141.0, 169.0]</td>\n",
       "      <td>155.0</td>\n",
       "      <td>19.083549</td>\n",
       "    </tr>\n",
       "    <tr>\n",
       "      <th>6</th>\n",
       "      <td>(169.0, 197.0]</td>\n",
       "      <td>183.0</td>\n",
       "      <td>18.134068</td>\n",
       "    </tr>\n",
       "    <tr>\n",
       "      <th>7</th>\n",
       "      <td>(197.0, 225.0]</td>\n",
       "      <td>211.0</td>\n",
       "      <td>17.272772</td>\n",
       "    </tr>\n",
       "    <tr>\n",
       "      <th>8</th>\n",
       "      <td>(225.0, 253.0]</td>\n",
       "      <td>239.0</td>\n",
       "      <td>16.398058</td>\n",
       "    </tr>\n",
       "    <tr>\n",
       "      <th>9</th>\n",
       "      <td>(253.0, 281.0]</td>\n",
       "      <td>267.0</td>\n",
       "      <td>15.733937</td>\n",
       "    </tr>\n",
       "    <tr>\n",
       "      <th>10</th>\n",
       "      <td>(281.0, 309.0]</td>\n",
       "      <td>295.0</td>\n",
       "      <td>15.484058</td>\n",
       "    </tr>\n",
       "    <tr>\n",
       "      <th>11</th>\n",
       "      <td>(309.0, 337.0]</td>\n",
       "      <td>323.0</td>\n",
       "      <td>15.541754</td>\n",
       "    </tr>\n",
       "    <tr>\n",
       "      <th>12</th>\n",
       "      <td>(337.0, 365.0]</td>\n",
       "      <td>351.0</td>\n",
       "      <td>15.237370</td>\n",
       "    </tr>\n",
       "  </tbody>\n",
       "</table>\n",
       "</div>"
      ],
      "text/plain": [
       "             range  order_time  reordered_percentage\n",
       "0      (1.0, 29.0]        15.0             28.018811\n",
       "1     (29.0, 57.0]        43.0             25.347300\n",
       "2     (57.0, 85.0]        71.0             22.788222\n",
       "3    (85.0, 113.0]        99.0             21.106851\n",
       "4   (113.0, 141.0]       127.0             20.158093\n",
       "5   (141.0, 169.0]       155.0             19.083549\n",
       "6   (169.0, 197.0]       183.0             18.134068\n",
       "7   (197.0, 225.0]       211.0             17.272772\n",
       "8   (225.0, 253.0]       239.0             16.398058\n",
       "9   (253.0, 281.0]       267.0             15.733937\n",
       "10  (281.0, 309.0]       295.0             15.484058\n",
       "11  (309.0, 337.0]       323.0             15.541754\n",
       "12  (337.0, 365.0]       351.0             15.237370"
      ]
     },
     "execution_count": 64,
     "metadata": {},
     "output_type": "execute_result"
    }
   ],
   "source": [
    "\n",
    "# Saving data\n",
    "plot_data = pd.DataFrame()\n",
    "plot_data['range'] = [pd.Interval(x1, x2, closed='right') for x1, x2 in zip(bins[:-1], bins[1:])] \n",
    "plot_data['order_time'] = x\n",
    "plot_data['reordered_percentage'] = y\n",
    "plot_data"
   ]
  },
  {
   "cell_type": "code",
   "execution_count": 65,
   "id": "12677082-ab06-41f5-b66e-d883ddc64304",
   "metadata": {},
   "outputs": [],
   "source": [
    "save_data(plot_data, 'plot_days_reordering_data.dmp')"
   ]
  },
  {
   "cell_type": "markdown",
   "id": "6e48071b-ea38-4a78-8abb-c11016aff1ff",
   "metadata": {},
   "source": [
    "The graph clearly **shows** that there is indeed a tendency for **customer preferences to change over time**. Thus, the share of products that were ordered **month** before the last order and are present in the last order is **28%**. But the share of presence in the last order of products purchased almost **year** ago is almost two times less - about **15%**."
   ]
  },
  {
   "cell_type": "markdown",
   "id": "3d2de8f7-25d7-4061-bd3f-71dd7f4ceb23",
   "metadata": {},
   "source": [
    "Next, we will test another assumption that the order number of adding a product to the cart reflects its importance to the customer, and that this feature can be used to form predictions. To do this, we will plot a graph of the share of products in customer orders that are present in their last order, depending on the order number of products in the cart."
   ]
  },
  {
   "cell_type": "code",
   "execution_count": 66,
   "id": "91a97e09-cec8-4de0-9f63-8ab1ee3988cb",
   "metadata": {
    "tags": []
   },
   "outputs": [
    {
     "data": {
      "image/png": "[encoded data removed]",
      "text/plain": [
       "<Figure size 600x400 with 1 Axes>"
      ]
     },
     "metadata": {},
     "output_type": "display_data"
    }
   ],
   "source": [
    "fig, ax = plt.subplots(figsize=(6, 4))\n",
    "x = prior_transactions['add_to_cart_order']\n",
    "nbins = int(x.max() - x.min())\n",
    "total_density, bins, _ = ax.hist(x, bins=nbins, density=True)\n",
    "add_to_cart_max = sum(total_density >= 0.01)\n",
    "bins = bins[:add_to_cart_max + 1]\n",
    "ax.clear()\n",
    "total_counts, _, _ = ax.hist(x, bins=nbins)\n",
    "total_counts = total_counts[:add_to_cart_max]\n",
    "ax.clear()\n",
    "x = products_reordering['add_to_cart_order']\n",
    "reordered_counts, _, _ = ax.hist(x, bins=nbins)\n",
    "reordered_counts = reordered_counts[:add_to_cart_max]\n",
    "ax.clear()\n",
    "x = [(x1 + x2) / 2 for x1, x2 in zip(bins[:-1], bins[1:])]\n",
    "y = [reordered_count / total_count * 100 for total_count, reordered_count in zip(total_counts, reordered_counts)]\n",
    "line, = ax.plot(x, y)\n",
    "line.set_alpha(0.75)\n",
    "ax.set_title('Dependence of percentage of products in customer orders,\\n'\n",
    "             'which are present in the last order,\\n'\n",
    "             'depending on order of adding the product to cart')\n",
    "ax.set_xlabel('Add to cart order')\n",
    "ax.set_ylabel('Percentage')\n",
    "ax.grid()"
   ]
  },
  {
   "cell_type": "code",
   "execution_count": 67,
   "id": "9f9fca0d-8803-4cb6-8ba1-c4f388a5ebf1",
   "metadata": {},
   "outputs": [
    {
     "data": {
      "text/html": [
       "<div>\n",
       "<style scoped>\n",
       "    .dataframe tbody tr th:only-of-type {\n",
       "        vertical-align: middle;\n",
       "    }\n",
       "\n",
       "    .dataframe tbody tr th {\n",
       "        vertical-align: top;\n",
       "    }\n",
       "\n",
       "    .dataframe thead th {\n",
       "        text-align: right;\n",
       "    }\n",
       "</style>\n",
       "<table border=\"1\" class=\"dataframe\">\n",
       "  <thead>\n",
       "    <tr style=\"text-align: right;\">\n",
       "      <th></th>\n",
       "      <th>range</th>\n",
       "      <th>add_to_cart_order</th>\n",
       "      <th>reordered_percentage</th>\n",
       "    </tr>\n",
       "  </thead>\n",
       "  <tbody>\n",
       "    <tr>\n",
       "      <th>0</th>\n",
       "      <td>(1.0, 2.0]</td>\n",
       "      <td>1.5</td>\n",
       "      <td>28.521228</td>\n",
       "    </tr>\n",
       "    <tr>\n",
       "      <th>1</th>\n",
       "      <td>(2.0, 3.0]</td>\n",
       "      <td>2.5</td>\n",
       "      <td>26.436565</td>\n",
       "    </tr>\n",
       "    <tr>\n",
       "      <th>2</th>\n",
       "      <td>(3.0, 4.0]</td>\n",
       "      <td>3.5</td>\n",
       "      <td>24.255591</td>\n",
       "    </tr>\n",
       "    <tr>\n",
       "      <th>3</th>\n",
       "      <td>(4.0, 5.0]</td>\n",
       "      <td>4.5</td>\n",
       "      <td>22.523740</td>\n",
       "    </tr>\n",
       "    <tr>\n",
       "      <th>4</th>\n",
       "      <td>(5.0, 6.0]</td>\n",
       "      <td>5.5</td>\n",
       "      <td>21.199966</td>\n",
       "    </tr>\n",
       "    <tr>\n",
       "      <th>5</th>\n",
       "      <td>(6.0, 7.0]</td>\n",
       "      <td>6.5</td>\n",
       "      <td>20.188015</td>\n",
       "    </tr>\n",
       "    <tr>\n",
       "      <th>6</th>\n",
       "      <td>(7.0, 8.0]</td>\n",
       "      <td>7.5</td>\n",
       "      <td>19.413332</td>\n",
       "    </tr>\n",
       "    <tr>\n",
       "      <th>7</th>\n",
       "      <td>(8.0, 9.0]</td>\n",
       "      <td>8.5</td>\n",
       "      <td>18.798299</td>\n",
       "    </tr>\n",
       "    <tr>\n",
       "      <th>8</th>\n",
       "      <td>(9.0, 10.0]</td>\n",
       "      <td>9.5</td>\n",
       "      <td>18.281485</td>\n",
       "    </tr>\n",
       "    <tr>\n",
       "      <th>9</th>\n",
       "      <td>(10.0, 11.0]</td>\n",
       "      <td>10.5</td>\n",
       "      <td>17.826473</td>\n",
       "    </tr>\n",
       "    <tr>\n",
       "      <th>10</th>\n",
       "      <td>(11.0, 12.0]</td>\n",
       "      <td>11.5</td>\n",
       "      <td>17.460715</td>\n",
       "    </tr>\n",
       "    <tr>\n",
       "      <th>11</th>\n",
       "      <td>(12.0, 13.0]</td>\n",
       "      <td>12.5</td>\n",
       "      <td>17.100967</td>\n",
       "    </tr>\n",
       "    <tr>\n",
       "      <th>12</th>\n",
       "      <td>(13.0, 14.0]</td>\n",
       "      <td>13.5</td>\n",
       "      <td>16.796060</td>\n",
       "    </tr>\n",
       "    <tr>\n",
       "      <th>13</th>\n",
       "      <td>(14.0, 15.0]</td>\n",
       "      <td>14.5</td>\n",
       "      <td>16.554333</td>\n",
       "    </tr>\n",
       "    <tr>\n",
       "      <th>14</th>\n",
       "      <td>(15.0, 16.0]</td>\n",
       "      <td>15.5</td>\n",
       "      <td>16.288082</td>\n",
       "    </tr>\n",
       "    <tr>\n",
       "      <th>15</th>\n",
       "      <td>(16.0, 17.0]</td>\n",
       "      <td>16.5</td>\n",
       "      <td>16.141215</td>\n",
       "    </tr>\n",
       "    <tr>\n",
       "      <th>16</th>\n",
       "      <td>(17.0, 18.0]</td>\n",
       "      <td>17.5</td>\n",
       "      <td>15.772500</td>\n",
       "    </tr>\n",
       "    <tr>\n",
       "      <th>17</th>\n",
       "      <td>(18.0, 19.0]</td>\n",
       "      <td>18.5</td>\n",
       "      <td>15.780146</td>\n",
       "    </tr>\n",
       "    <tr>\n",
       "      <th>18</th>\n",
       "      <td>(19.0, 20.0]</td>\n",
       "      <td>19.5</td>\n",
       "      <td>15.550554</td>\n",
       "    </tr>\n",
       "    <tr>\n",
       "      <th>19</th>\n",
       "      <td>(20.0, 21.0]</td>\n",
       "      <td>20.5</td>\n",
       "      <td>15.324762</td>\n",
       "    </tr>\n",
       "  </tbody>\n",
       "</table>\n",
       "</div>"
      ],
      "text/plain": [
       "           range  add_to_cart_order  reordered_percentage\n",
       "0     (1.0, 2.0]                1.5             28.521228\n",
       "1     (2.0, 3.0]                2.5             26.436565\n",
       "2     (3.0, 4.0]                3.5             24.255591\n",
       "3     (4.0, 5.0]                4.5             22.523740\n",
       "4     (5.0, 6.0]                5.5             21.199966\n",
       "5     (6.0, 7.0]                6.5             20.188015\n",
       "6     (7.0, 8.0]                7.5             19.413332\n",
       "7     (8.0, 9.0]                8.5             18.798299\n",
       "8    (9.0, 10.0]                9.5             18.281485\n",
       "9   (10.0, 11.0]               10.5             17.826473\n",
       "10  (11.0, 12.0]               11.5             17.460715\n",
       "11  (12.0, 13.0]               12.5             17.100967\n",
       "12  (13.0, 14.0]               13.5             16.796060\n",
       "13  (14.0, 15.0]               14.5             16.554333\n",
       "14  (15.0, 16.0]               15.5             16.288082\n",
       "15  (16.0, 17.0]               16.5             16.141215\n",
       "16  (17.0, 18.0]               17.5             15.772500\n",
       "17  (18.0, 19.0]               18.5             15.780146\n",
       "18  (19.0, 20.0]               19.5             15.550554\n",
       "19  (20.0, 21.0]               20.5             15.324762"
      ]
     },
     "execution_count": 67,
     "metadata": {},
     "output_type": "execute_result"
    }
   ],
   "source": [
    "# Saving data\n",
    "plot_data = pd.DataFrame()\n",
    "plot_data['range'] = [pd.Interval(x1, x2, closed='right') for x1, x2 in zip(bins[:-1], bins[1:])] \n",
    "plot_data['add_to_cart_order'] = x\n",
    "plot_data['reordered_percentage'] = y\n",
    "plot_data"
   ]
  },
  {
   "cell_type": "code",
   "execution_count": 68,
   "id": "7b88e6c9-85c2-4ba1-8791-1cf3ad2d91af",
   "metadata": {},
   "outputs": [],
   "source": [
    "save_data(plot_data, 'plot_cart_reordering_data.dmp')"
   ]
  },
  {
   "cell_type": "markdown",
   "id": "3b149bb9-67d1-42e0-bd4b-c244dedd514e",
   "metadata": {},
   "source": [
    "The graph clearly shows that products from the last order were often among the first to be added to the cart in previous orders. Thus, the share of products that were **added to the cart first** and are present in the last order is about **28.5%**. But the share of products present in the last order and added to the cart **21** is almost two times less - about **15.5%**. So **this feature** should be used while model building."
   ]
  },
  {
   "cell_type": "markdown",
   "id": "11025693-1229-45da-8ade-a769f12181f4",
   "metadata": {
    "tags": []
   },
   "source": [
    "### Creating a recommendation model"
   ]
  },
  {
   "cell_type": "markdown",
   "id": "5253ab56-5384-4ba2-a1e7-3dfb777bd836",
   "metadata": {
    "tags": []
   },
   "source": [
    "#### Filtering by frequency of product purchases"
   ]
  },
  {
   "cell_type": "markdown",
   "id": "7b097819-bbb7-4de1-828f-30bd8359072f",
   "metadata": {},
   "source": [
    "In accordance with the chosen concept of the prediction model, the rating of products for each customer should be primarily assessed by the frequency of purchases by this customer. In this case, products that the customer has never purchased will have a zero rating. And for products that the customer has purchased, the rating will be equal to the number of purchases of this product. This type of filtering can be described by the following formula:\n",
    "$$r_{u,i}=\\sum_{t \\in T_u}s_{u,i,t},$$\n",
    "where&nbsp;$r_{u,i}$ is the rating of product with number $i$ for customer with number $u$ ($i \\in I$, where $I$ is the set of product numbers; $u \\in U$, where $U$ is the set of customer numbers);  \n",
    "&nbsp;&nbsp;&nbsp;&nbsp;&nbsp;&nbsp;&nbsp;&nbsp;&nbsp;&nbsp;&nbsp;$T_u$ - transaction numbers made by customer with number $u$ ($T_u \\in T$, where $T$ is a set of transaction numbers);  \n",
    "&nbsp;&nbsp;&nbsp;&nbsp;&nbsp;&nbsp;&nbsp;&nbsp;&nbsp;&nbsp;&nbsp;$s_{u,i,t}$ - presence of product with number $i$ in transaction with number $t$ of customer with number $u$: $0$-no, $1$-yes."
   ]
  },
  {
   "cell_type": "markdown",
   "id": "47076b3c-d215-47c1-b934-9c2c0e5aeafd",
   "metadata": {},
   "source": [
    "Let's see what accuracy, according to the $MAP@10$ metric, the predictions based on such an algorithm have."
   ]
  },
  {
   "cell_type": "code",
   "execution_count": 92,
   "id": "d11e088c-7c22-4658-bd9f-f0e3823ba95b",
   "metadata": {
    "tags": []
   },
   "outputs": [],
   "source": [
    "frequency_weights = f.get_weights(prior_transactions)\n",
    "frequency_ratings = f.get_ratings(frequency_weights)\n",
    "frequency_prediction = f.get_prediction(frequency_ratings)\n",
    "frequency_map_10 = f.get_prediction_precision(true=last_products, prediction=frequency_prediction)"
   ]
  },
  {
   "cell_type": "code",
   "execution_count": 93,
   "id": "fe9df559-89a5-4149-a428-18e44ba2a581",
   "metadata": {},
   "outputs": [],
   "source": [
    "# Saving data\n",
    "save_data(frequency_map_10, 'frequency_map_10.dmp')"
   ]
  },
  {
   "cell_type": "code",
   "execution_count": 94,
   "id": "9f99651d-bac8-42d0-bc2c-aa4a5e96fe6b",
   "metadata": {},
   "outputs": [
    {
     "data": {
      "image/png": "[encoded data removed]",
      "text/plain": [
       "<Figure size 600x400 with 1 Axes>"
      ]
     },
     "metadata": {},
     "output_type": "display_data"
    }
   ],
   "source": [
    "ax = frequency_ratings['rating'].plot(\n",
    "    kind='hist',\n",
    "    bins=frequency_ratings['rating'].max() - 1,\n",
    "    title='Distribution of previously purchased products by rating',\n",
    "    figsize=(6, 4), grid=True, fontsize=10, legend=False, alpha=0.75\n",
    ")\n",
    "ax.set_xlim(0, 20)\n",
    "ax.set_xlabel('Rating of products')\n",
    "_ = ax.set_ylabel('Number of products')"
   ]
  },
  {
   "cell_type": "code",
   "execution_count": 96,
   "id": "fcdb5136-ce8c-4bcc-96aa-3c087c60875b",
   "metadata": {},
   "outputs": [
    {
     "data": {
      "text/plain": [
       "range                 interval[float64, right]\n",
       "number_of_products                       int64\n",
       "rating                                 float64\n",
       "dtype: object"
      ]
     },
     "execution_count": 96,
     "metadata": {},
     "output_type": "execute_result"
    }
   ],
   "source": [
    "plot_data = frequency_ratings['rating'].value_counts(bins=frequency_ratings['rating'].max() - 1).reset_index(name='number_of_products')\n",
    "plot_data.rename(columns={'index': 'range'}, inplace=True)\n",
    "plot_data['rating'] = plot_data['range'].map(lambda interval: (interval.left + interval.right) / 2)\n",
    "plot_data.dtypes"
   ]
  },
  {
   "cell_type": "code",
   "execution_count": 98,
   "id": "3fbb1a56-3b18-4ee2-a54e-a6e411bf28e0",
   "metadata": {},
   "outputs": [],
   "source": [
    "save_data(plot_data, 'plot_ratings_hist_data.dmp')"
   ]
  },
  {
   "cell_type": "code",
   "execution_count": 99,
   "id": "9f25a234-8bbc-4738-a9d2-cb090d0cc375",
   "metadata": {
    "scrolled": true,
    "tags": []
   },
   "outputs": [
    {
     "data": {
      "text/markdown": [
       "The value of the $MAP@10$ metric in this case is **0.280609**. This is already an acceptable result. We will try to improve it with additional filtering."
      ],
      "text/plain": [
       "<IPython.core.display.Markdown object>"
      ]
     },
     "execution_count": 99,
     "metadata": {},
     "output_type": "execute_result"
    }
   ],
   "source": [
    "md(\n",
    "    f'The value of the $MAP@10$ metric in this case is **{frequency_map_10:.6f}**. '\n",
    "    f'This is already an acceptable result. We will try to improve it with additional filtering.'\n",
    ")"
   ]
  },
  {
   "cell_type": "markdown",
   "id": "fcec653b-9b45-42e0-93bf-81a5510e6763",
   "metadata": {
    "tags": []
   },
   "source": [
    "#### Filter by purchase time"
   ]
  },
  {
   "cell_type": "markdown",
   "id": "c5618e52-d552-4318-a0f6-cc1b18e7a9b9",
   "metadata": {},
   "source": [
    "As a result of the exploratory analysis, we confirmed the existence of a dependence of the share of purchased products included in the next order on the time of the order. In this regard, the importance of orders should be reduced as they move away in time from the last order. To do this, we will introduce the concept of \"**weight**\" of a transaction, which will depend on the time of its execution. Judging by the appearance of the graph of the above dependence, it can be assumed that it is exponential in nature. Therefore, we will reduce the transaction weights exponentially, i.e. we will apply the so-called exponential filtering, in which the transaction weights are determined by the formula:\n",
    "$$w_{u,t}=e^{-d_{u,t}·a_d},$$\n",
    "where&nbsp;$w_{u,t}$ is the weight of the transaction with the number $t$ of the customer with the number $u$;  \n",
    "&nbsp;&nbsp;&nbsp;&nbsp;&nbsp;&nbsp;&nbsp;&nbsp;&nbsp;&nbsp;&nbsp;$d_{u,t}$ - time of transaction with number $t$ of customer with number $u$;  \n",
    "&nbsp;&nbsp;&nbsp;&nbsp;&nbsp;&nbsp;&nbsp;&nbsp;&nbsp;&nbsp;&nbsp;$a_d$ - filtration rate (positive number).\n",
    "\n",
    "In this case, the formula for calculating product ratings will take the following form:\n",
    "$$r_{u,i}=\\sum_{t \\in T_u}s_{u,i,t}·w_{u,t}=\\sum_{t \\in T_u}s_{u,i,t}·e^{-d_{u,t}·a_d}.$$"
   ]
  },
  {
   "cell_type": "markdown",
   "id": "44d0dac4-ce46-4289-8447-1ead9c992ed7",
   "metadata": {},
   "source": [
    "To check the effect of filtering by purchase time and the influence of the value of the rate $a_d$ on the accuracy of predictions using it, we will plot a graph of the dependence of the value of the metric $MAP@10$ on the value of this rate."
   ]
  },
  {
   "cell_type": "code",
   "execution_count": 100,
   "id": "cf632ab1-f146-4140-9215-0cb4f009c43e",
   "metadata": {
    "tags": []
   },
   "outputs": [
    {
     "name": "stdout",
     "output_type": "stream",
     "text": [
      "\n",
      "IPython CPU timings (estimated):\n",
      "  User   :       0.06 s.\n",
      "  System :       0.00 s.\n",
      "Wall time:     126.67 s.\n"
     ]
    },
    {
     "data": {
      "text/plain": [
       "<Figure size 640x480 with 0 Axes>"
      ]
     },
     "metadata": {},
     "output_type": "display_data"
    }
   ],
   "source": [
    "start, stop, num = 0.0, 0.1, 21\n",
    "map10_days = multiprocessing(start=start, stop=stop, num=num, func='get_map10_by_days_rates')"
   ]
  },
  {
   "cell_type": "code",
   "execution_count": 156,
   "id": "3e3cbbac-77ee-43e4-bbad-35b2b371379d",
   "metadata": {
    "tags": []
   },
   "outputs": [],
   "source": [
    "map10_days_approximated, days_rate = f.approximate_precision_by_rate(map10_days.index, map10_days, 7)\n",
    "days_weights = f.get_weights(prior_transactions, days_rate=days_rate)\n",
    "days_ratings = f.get_ratings(days_weights)\n",
    "days_prediction = f.get_prediction(days_ratings)\n",
    "days_map10 = f.get_prediction_precision(last_products, days_prediction)"
   ]
  },
  {
   "cell_type": "code",
   "execution_count": 159,
   "id": "4d4b57be-69e2-438c-b014-5b19fc4e932b",
   "metadata": {},
   "outputs": [],
   "source": [
    "# Saving data\n",
    "save_data(days_map10, 'days_map10.dmp')\n",
    "save_data(days_rate, 'days_rate.dmp')"
   ]
  },
  {
   "cell_type": "code",
   "execution_count": 157,
   "id": "dfa2d109-adb0-46c0-b791-dea9c2656d49",
   "metadata": {
    "scrolled": true
   },
   "outputs": [
    {
     "data": {
      "text/html": [
       "<div>\n",
       "<style scoped>\n",
       "    .dataframe tbody tr th:only-of-type {\n",
       "        vertical-align: middle;\n",
       "    }\n",
       "\n",
       "    .dataframe tbody tr th {\n",
       "        vertical-align: top;\n",
       "    }\n",
       "\n",
       "    .dataframe thead th {\n",
       "        text-align: right;\n",
       "    }\n",
       "</style>\n",
       "<table border=\"1\" class=\"dataframe\">\n",
       "  <thead>\n",
       "    <tr style=\"text-align: right;\">\n",
       "      <th></th>\n",
       "      <th>days_rate</th>\n",
       "      <th>precision</th>\n",
       "      <th>type</th>\n",
       "    </tr>\n",
       "  </thead>\n",
       "  <tbody>\n",
       "    <tr>\n",
       "      <th>0</th>\n",
       "      <td>0.000</td>\n",
       "      <td>0.280609</td>\n",
       "      <td>actual</td>\n",
       "    </tr>\n",
       "    <tr>\n",
       "      <th>1</th>\n",
       "      <td>0.005</td>\n",
       "      <td>0.306499</td>\n",
       "      <td>actual</td>\n",
       "    </tr>\n",
       "    <tr>\n",
       "      <th>2</th>\n",
       "      <td>0.010</td>\n",
       "      <td>0.320170</td>\n",
       "      <td>actual</td>\n",
       "    </tr>\n",
       "    <tr>\n",
       "      <th>3</th>\n",
       "      <td>0.015</td>\n",
       "      <td>0.324974</td>\n",
       "      <td>actual</td>\n",
       "    </tr>\n",
       "    <tr>\n",
       "      <th>4</th>\n",
       "      <td>0.020</td>\n",
       "      <td>0.325016</td>\n",
       "      <td>actual</td>\n",
       "    </tr>\n",
       "    <tr>\n",
       "      <th>5</th>\n",
       "      <td>0.025</td>\n",
       "      <td>0.322810</td>\n",
       "      <td>actual</td>\n",
       "    </tr>\n",
       "    <tr>\n",
       "      <th>6</th>\n",
       "      <td>0.030</td>\n",
       "      <td>0.319978</td>\n",
       "      <td>actual</td>\n",
       "    </tr>\n",
       "    <tr>\n",
       "      <th>7</th>\n",
       "      <td>0.035</td>\n",
       "      <td>0.316991</td>\n",
       "      <td>actual</td>\n",
       "    </tr>\n",
       "    <tr>\n",
       "      <th>8</th>\n",
       "      <td>0.040</td>\n",
       "      <td>0.314118</td>\n",
       "      <td>actual</td>\n",
       "    </tr>\n",
       "    <tr>\n",
       "      <th>9</th>\n",
       "      <td>0.045</td>\n",
       "      <td>0.311495</td>\n",
       "      <td>actual</td>\n",
       "    </tr>\n",
       "    <tr>\n",
       "      <th>10</th>\n",
       "      <td>0.050</td>\n",
       "      <td>0.309036</td>\n",
       "      <td>actual</td>\n",
       "    </tr>\n",
       "    <tr>\n",
       "      <th>11</th>\n",
       "      <td>0.055</td>\n",
       "      <td>0.306721</td>\n",
       "      <td>actual</td>\n",
       "    </tr>\n",
       "    <tr>\n",
       "      <th>12</th>\n",
       "      <td>0.060</td>\n",
       "      <td>0.304781</td>\n",
       "      <td>actual</td>\n",
       "    </tr>\n",
       "    <tr>\n",
       "      <th>13</th>\n",
       "      <td>0.065</td>\n",
       "      <td>0.302971</td>\n",
       "      <td>actual</td>\n",
       "    </tr>\n",
       "    <tr>\n",
       "      <th>14</th>\n",
       "      <td>0.070</td>\n",
       "      <td>0.301281</td>\n",
       "      <td>actual</td>\n",
       "    </tr>\n",
       "    <tr>\n",
       "      <th>15</th>\n",
       "      <td>0.075</td>\n",
       "      <td>0.299691</td>\n",
       "      <td>actual</td>\n",
       "    </tr>\n",
       "    <tr>\n",
       "      <th>16</th>\n",
       "      <td>0.080</td>\n",
       "      <td>0.298319</td>\n",
       "      <td>actual</td>\n",
       "    </tr>\n",
       "    <tr>\n",
       "      <th>17</th>\n",
       "      <td>0.085</td>\n",
       "      <td>0.297105</td>\n",
       "      <td>actual</td>\n",
       "    </tr>\n",
       "    <tr>\n",
       "      <th>18</th>\n",
       "      <td>0.090</td>\n",
       "      <td>0.295943</td>\n",
       "      <td>actual</td>\n",
       "    </tr>\n",
       "    <tr>\n",
       "      <th>19</th>\n",
       "      <td>0.095</td>\n",
       "      <td>0.294959</td>\n",
       "      <td>actual</td>\n",
       "    </tr>\n",
       "    <tr>\n",
       "      <th>20</th>\n",
       "      <td>0.100</td>\n",
       "      <td>0.294063</td>\n",
       "      <td>actual</td>\n",
       "    </tr>\n",
       "    <tr>\n",
       "      <th>21</th>\n",
       "      <td>0.000</td>\n",
       "      <td>0.280495</td>\n",
       "      <td>approximated</td>\n",
       "    </tr>\n",
       "    <tr>\n",
       "      <th>22</th>\n",
       "      <td>0.005</td>\n",
       "      <td>0.306878</td>\n",
       "      <td>approximated</td>\n",
       "    </tr>\n",
       "    <tr>\n",
       "      <th>23</th>\n",
       "      <td>0.010</td>\n",
       "      <td>0.319901</td>\n",
       "      <td>approximated</td>\n",
       "    </tr>\n",
       "    <tr>\n",
       "      <th>24</th>\n",
       "      <td>0.015</td>\n",
       "      <td>0.324780</td>\n",
       "      <td>approximated</td>\n",
       "    </tr>\n",
       "    <tr>\n",
       "      <th>25</th>\n",
       "      <td>0.020</td>\n",
       "      <td>0.325058</td>\n",
       "      <td>approximated</td>\n",
       "    </tr>\n",
       "    <tr>\n",
       "      <th>26</th>\n",
       "      <td>0.025</td>\n",
       "      <td>0.323028</td>\n",
       "      <td>approximated</td>\n",
       "    </tr>\n",
       "    <tr>\n",
       "      <th>27</th>\n",
       "      <td>0.030</td>\n",
       "      <td>0.320075</td>\n",
       "      <td>approximated</td>\n",
       "    </tr>\n",
       "    <tr>\n",
       "      <th>28</th>\n",
       "      <td>0.035</td>\n",
       "      <td>0.316955</td>\n",
       "      <td>approximated</td>\n",
       "    </tr>\n",
       "    <tr>\n",
       "      <th>29</th>\n",
       "      <td>0.040</td>\n",
       "      <td>0.314019</td>\n",
       "      <td>approximated</td>\n",
       "    </tr>\n",
       "    <tr>\n",
       "      <th>30</th>\n",
       "      <td>0.045</td>\n",
       "      <td>0.311371</td>\n",
       "      <td>approximated</td>\n",
       "    </tr>\n",
       "    <tr>\n",
       "      <th>31</th>\n",
       "      <td>0.050</td>\n",
       "      <td>0.308997</td>\n",
       "      <td>approximated</td>\n",
       "    </tr>\n",
       "    <tr>\n",
       "      <th>32</th>\n",
       "      <td>0.055</td>\n",
       "      <td>0.306838</td>\n",
       "      <td>approximated</td>\n",
       "    </tr>\n",
       "    <tr>\n",
       "      <th>33</th>\n",
       "      <td>0.060</td>\n",
       "      <td>0.304842</td>\n",
       "      <td>approximated</td>\n",
       "    </tr>\n",
       "    <tr>\n",
       "      <th>34</th>\n",
       "      <td>0.065</td>\n",
       "      <td>0.302982</td>\n",
       "      <td>approximated</td>\n",
       "    </tr>\n",
       "    <tr>\n",
       "      <th>35</th>\n",
       "      <td>0.070</td>\n",
       "      <td>0.301259</td>\n",
       "      <td>approximated</td>\n",
       "    </tr>\n",
       "    <tr>\n",
       "      <th>36</th>\n",
       "      <td>0.075</td>\n",
       "      <td>0.299690</td>\n",
       "      <td>approximated</td>\n",
       "    </tr>\n",
       "    <tr>\n",
       "      <th>37</th>\n",
       "      <td>0.080</td>\n",
       "      <td>0.298292</td>\n",
       "      <td>approximated</td>\n",
       "    </tr>\n",
       "    <tr>\n",
       "      <th>38</th>\n",
       "      <td>0.085</td>\n",
       "      <td>0.297063</td>\n",
       "      <td>approximated</td>\n",
       "    </tr>\n",
       "    <tr>\n",
       "      <th>39</th>\n",
       "      <td>0.090</td>\n",
       "      <td>0.295978</td>\n",
       "      <td>approximated</td>\n",
       "    </tr>\n",
       "    <tr>\n",
       "      <th>40</th>\n",
       "      <td>0.095</td>\n",
       "      <td>0.294987</td>\n",
       "      <td>approximated</td>\n",
       "    </tr>\n",
       "    <tr>\n",
       "      <th>41</th>\n",
       "      <td>0.100</td>\n",
       "      <td>0.294045</td>\n",
       "      <td>approximated</td>\n",
       "    </tr>\n",
       "  </tbody>\n",
       "</table>\n",
       "</div>"
      ],
      "text/plain": [
       "    days_rate  precision          type\n",
       "0       0.000   0.280609        actual\n",
       "1       0.005   0.306499        actual\n",
       "2       0.010   0.320170        actual\n",
       "3       0.015   0.324974        actual\n",
       "4       0.020   0.325016        actual\n",
       "5       0.025   0.322810        actual\n",
       "6       0.030   0.319978        actual\n",
       "7       0.035   0.316991        actual\n",
       "8       0.040   0.314118        actual\n",
       "9       0.045   0.311495        actual\n",
       "10      0.050   0.309036        actual\n",
       "11      0.055   0.306721        actual\n",
       "12      0.060   0.304781        actual\n",
       "13      0.065   0.302971        actual\n",
       "14      0.070   0.301281        actual\n",
       "15      0.075   0.299691        actual\n",
       "16      0.080   0.298319        actual\n",
       "17      0.085   0.297105        actual\n",
       "18      0.090   0.295943        actual\n",
       "19      0.095   0.294959        actual\n",
       "20      0.100   0.294063        actual\n",
       "21      0.000   0.280495  approximated\n",
       "22      0.005   0.306878  approximated\n",
       "23      0.010   0.319901  approximated\n",
       "24      0.015   0.324780  approximated\n",
       "25      0.020   0.325058  approximated\n",
       "26      0.025   0.323028  approximated\n",
       "27      0.030   0.320075  approximated\n",
       "28      0.035   0.316955  approximated\n",
       "29      0.040   0.314019  approximated\n",
       "30      0.045   0.311371  approximated\n",
       "31      0.050   0.308997  approximated\n",
       "32      0.055   0.306838  approximated\n",
       "33      0.060   0.304842  approximated\n",
       "34      0.065   0.302982  approximated\n",
       "35      0.070   0.301259  approximated\n",
       "36      0.075   0.299690  approximated\n",
       "37      0.080   0.298292  approximated\n",
       "38      0.085   0.297063  approximated\n",
       "39      0.090   0.295978  approximated\n",
       "40      0.095   0.294987  approximated\n",
       "41      0.100   0.294045  approximated"
      ]
     },
     "execution_count": 157,
     "metadata": {},
     "output_type": "execute_result"
    }
   ],
   "source": [
    "plot_data = map10_days.reset_index()\n",
    "plot_data['type'] = 'actual'\n",
    "index = pd.RangeIndex(map10_days.shape[0], map10_days.shape[0] + map10_days_approximated.shape[0])\n",
    "for i in index:\n",
    "    plot_data.loc[i, 'type'] = 'approximated'\n",
    "plot_data.loc[index, 'days_rate'] = map10_days.index\n",
    "plot_data.loc[index, 'precision'] = map10_days_approximated\n",
    "# plot_data.loc[index.stop] = [days_rate, days_map10, 'peak']\n",
    "plot_data"
   ]
  },
  {
   "cell_type": "code",
   "execution_count": 158,
   "id": "18286332-2cc6-46a2-b428-2a5a2ac0a2df",
   "metadata": {},
   "outputs": [],
   "source": [
    "save_data(plot_data, 'plot_days_data.dmp')"
   ]
  },
  {
   "cell_type": "code",
   "execution_count": 23,
   "id": "7034685b-22a3-43f4-9e61-d505af008b51",
   "metadata": {},
   "outputs": [
    {
     "data": {
      "text/plain": [
       "(0.0, 20.0)"
      ]
     },
     "execution_count": 23,
     "metadata": {},
     "output_type": "execute_result"
    },
    {
     "data": {
      "image/png": "[encoded data removed]",
      "text/plain": [
       "<Figure size 640x480 with 1 Axes>"
      ]
     },
     "metadata": {},
     "output_type": "display_data"
    }
   ],
   "source": [
    "ax = days_ratings['rating'].hist(bins=int(np.ceil(days_ratings['rating']).max()))\n",
    "ax.set_xlim(0, 20)"
   ]
  },
  {
   "cell_type": "code",
   "execution_count": 178,
   "id": "c6d064e7-e48b-4e5e-9aae-add204f26619",
   "metadata": {},
   "outputs": [
    {
     "data": {
      "text/html": [
       "<div>\n",
       "<style scoped>\n",
       "    .dataframe tbody tr th:only-of-type {\n",
       "        vertical-align: middle;\n",
       "    }\n",
       "\n",
       "    .dataframe tbody tr th {\n",
       "        vertical-align: top;\n",
       "    }\n",
       "\n",
       "    .dataframe thead th {\n",
       "        text-align: right;\n",
       "    }\n",
       "</style>\n",
       "<table border=\"1\" class=\"dataframe\">\n",
       "  <thead>\n",
       "    <tr style=\"text-align: right;\">\n",
       "      <th></th>\n",
       "      <th>range</th>\n",
       "      <th>number_of_products</th>\n",
       "      <th>rating</th>\n",
       "    </tr>\n",
       "  </thead>\n",
       "  <tbody>\n",
       "    <tr>\n",
       "      <th>0</th>\n",
       "      <td>(0, 1]</td>\n",
       "      <td>7632757</td>\n",
       "      <td>0.5</td>\n",
       "    </tr>\n",
       "    <tr>\n",
       "      <th>1</th>\n",
       "      <td>(1, 2]</td>\n",
       "      <td>914752</td>\n",
       "      <td>1.5</td>\n",
       "    </tr>\n",
       "    <tr>\n",
       "      <th>2</th>\n",
       "      <td>(2, 3]</td>\n",
       "      <td>311602</td>\n",
       "      <td>2.5</td>\n",
       "    </tr>\n",
       "    <tr>\n",
       "      <th>3</th>\n",
       "      <td>(3, 4]</td>\n",
       "      <td>132340</td>\n",
       "      <td>3.5</td>\n",
       "    </tr>\n",
       "    <tr>\n",
       "      <th>4</th>\n",
       "      <td>(4, 5]</td>\n",
       "      <td>65266</td>\n",
       "      <td>4.5</td>\n",
       "    </tr>\n",
       "    <tr>\n",
       "      <th>5</th>\n",
       "      <td>(5, 6]</td>\n",
       "      <td>34554</td>\n",
       "      <td>5.5</td>\n",
       "    </tr>\n",
       "    <tr>\n",
       "      <th>6</th>\n",
       "      <td>(6, 7]</td>\n",
       "      <td>18712</td>\n",
       "      <td>6.5</td>\n",
       "    </tr>\n",
       "    <tr>\n",
       "      <th>7</th>\n",
       "      <td>(7, 8]</td>\n",
       "      <td>9801</td>\n",
       "      <td>7.5</td>\n",
       "    </tr>\n",
       "    <tr>\n",
       "      <th>8</th>\n",
       "      <td>(8, 9]</td>\n",
       "      <td>4794</td>\n",
       "      <td>8.5</td>\n",
       "    </tr>\n",
       "    <tr>\n",
       "      <th>9</th>\n",
       "      <td>(9, 10]</td>\n",
       "      <td>2650</td>\n",
       "      <td>9.5</td>\n",
       "    </tr>\n",
       "    <tr>\n",
       "      <th>10</th>\n",
       "      <td>(10, 11]</td>\n",
       "      <td>1659</td>\n",
       "      <td>10.5</td>\n",
       "    </tr>\n",
       "    <tr>\n",
       "      <th>11</th>\n",
       "      <td>(11, 12]</td>\n",
       "      <td>1097</td>\n",
       "      <td>11.5</td>\n",
       "    </tr>\n",
       "    <tr>\n",
       "      <th>12</th>\n",
       "      <td>(12, 13]</td>\n",
       "      <td>688</td>\n",
       "      <td>12.5</td>\n",
       "    </tr>\n",
       "    <tr>\n",
       "      <th>13</th>\n",
       "      <td>(13, 14]</td>\n",
       "      <td>493</td>\n",
       "      <td>13.5</td>\n",
       "    </tr>\n",
       "    <tr>\n",
       "      <th>14</th>\n",
       "      <td>(14, 15]</td>\n",
       "      <td>351</td>\n",
       "      <td>14.5</td>\n",
       "    </tr>\n",
       "    <tr>\n",
       "      <th>15</th>\n",
       "      <td>(15, 16]</td>\n",
       "      <td>232</td>\n",
       "      <td>15.5</td>\n",
       "    </tr>\n",
       "    <tr>\n",
       "      <th>16</th>\n",
       "      <td>(16, 17]</td>\n",
       "      <td>147</td>\n",
       "      <td>16.5</td>\n",
       "    </tr>\n",
       "    <tr>\n",
       "      <th>17</th>\n",
       "      <td>(17, 18]</td>\n",
       "      <td>100</td>\n",
       "      <td>17.5</td>\n",
       "    </tr>\n",
       "    <tr>\n",
       "      <th>18</th>\n",
       "      <td>(18, 19]</td>\n",
       "      <td>72</td>\n",
       "      <td>18.5</td>\n",
       "    </tr>\n",
       "    <tr>\n",
       "      <th>19</th>\n",
       "      <td>(19, 20]</td>\n",
       "      <td>65</td>\n",
       "      <td>19.5</td>\n",
       "    </tr>\n",
       "    <tr>\n",
       "      <th>20</th>\n",
       "      <td>(20, 21]</td>\n",
       "      <td>50</td>\n",
       "      <td>20.5</td>\n",
       "    </tr>\n",
       "    <tr>\n",
       "      <th>21</th>\n",
       "      <td>(21, 22]</td>\n",
       "      <td>44</td>\n",
       "      <td>21.5</td>\n",
       "    </tr>\n",
       "    <tr>\n",
       "      <th>22</th>\n",
       "      <td>(22, 23]</td>\n",
       "      <td>42</td>\n",
       "      <td>22.5</td>\n",
       "    </tr>\n",
       "    <tr>\n",
       "      <th>23</th>\n",
       "      <td>(23, 24]</td>\n",
       "      <td>32</td>\n",
       "      <td>23.5</td>\n",
       "    </tr>\n",
       "    <tr>\n",
       "      <th>24</th>\n",
       "      <td>(26, 27]</td>\n",
       "      <td>27</td>\n",
       "      <td>26.5</td>\n",
       "    </tr>\n",
       "    <tr>\n",
       "      <th>25</th>\n",
       "      <td>(25, 26]</td>\n",
       "      <td>24</td>\n",
       "      <td>25.5</td>\n",
       "    </tr>\n",
       "    <tr>\n",
       "      <th>26</th>\n",
       "      <td>(27, 28]</td>\n",
       "      <td>21</td>\n",
       "      <td>27.5</td>\n",
       "    </tr>\n",
       "    <tr>\n",
       "      <th>27</th>\n",
       "      <td>(29, 30]</td>\n",
       "      <td>19</td>\n",
       "      <td>29.5</td>\n",
       "    </tr>\n",
       "    <tr>\n",
       "      <th>28</th>\n",
       "      <td>(32, 33]</td>\n",
       "      <td>17</td>\n",
       "      <td>32.5</td>\n",
       "    </tr>\n",
       "    <tr>\n",
       "      <th>29</th>\n",
       "      <td>(24, 25]</td>\n",
       "      <td>16</td>\n",
       "      <td>24.5</td>\n",
       "    </tr>\n",
       "    <tr>\n",
       "      <th>30</th>\n",
       "      <td>(28, 29]</td>\n",
       "      <td>15</td>\n",
       "      <td>28.5</td>\n",
       "    </tr>\n",
       "    <tr>\n",
       "      <th>31</th>\n",
       "      <td>(33, 34]</td>\n",
       "      <td>12</td>\n",
       "      <td>33.5</td>\n",
       "    </tr>\n",
       "    <tr>\n",
       "      <th>32</th>\n",
       "      <td>(31, 32]</td>\n",
       "      <td>10</td>\n",
       "      <td>31.5</td>\n",
       "    </tr>\n",
       "    <tr>\n",
       "      <th>33</th>\n",
       "      <td>(30, 31]</td>\n",
       "      <td>8</td>\n",
       "      <td>30.5</td>\n",
       "    </tr>\n",
       "    <tr>\n",
       "      <th>34</th>\n",
       "      <td>(35, 36]</td>\n",
       "      <td>7</td>\n",
       "      <td>35.5</td>\n",
       "    </tr>\n",
       "    <tr>\n",
       "      <th>35</th>\n",
       "      <td>(36, 37]</td>\n",
       "      <td>7</td>\n",
       "      <td>36.5</td>\n",
       "    </tr>\n",
       "    <tr>\n",
       "      <th>36</th>\n",
       "      <td>(34, 35]</td>\n",
       "      <td>5</td>\n",
       "      <td>34.5</td>\n",
       "    </tr>\n",
       "    <tr>\n",
       "      <th>37</th>\n",
       "      <td>(43, 44]</td>\n",
       "      <td>3</td>\n",
       "      <td>43.5</td>\n",
       "    </tr>\n",
       "    <tr>\n",
       "      <th>38</th>\n",
       "      <td>(42, 43]</td>\n",
       "      <td>2</td>\n",
       "      <td>42.5</td>\n",
       "    </tr>\n",
       "    <tr>\n",
       "      <th>39</th>\n",
       "      <td>(44, 45]</td>\n",
       "      <td>2</td>\n",
       "      <td>44.5</td>\n",
       "    </tr>\n",
       "    <tr>\n",
       "      <th>40</th>\n",
       "      <td>(38, 39]</td>\n",
       "      <td>2</td>\n",
       "      <td>38.5</td>\n",
       "    </tr>\n",
       "    <tr>\n",
       "      <th>41</th>\n",
       "      <td>(40, 41]</td>\n",
       "      <td>2</td>\n",
       "      <td>40.5</td>\n",
       "    </tr>\n",
       "    <tr>\n",
       "      <th>42</th>\n",
       "      <td>(37, 38]</td>\n",
       "      <td>2</td>\n",
       "      <td>37.5</td>\n",
       "    </tr>\n",
       "    <tr>\n",
       "      <th>43</th>\n",
       "      <td>(51, 52]</td>\n",
       "      <td>2</td>\n",
       "      <td>51.5</td>\n",
       "    </tr>\n",
       "    <tr>\n",
       "      <th>44</th>\n",
       "      <td>(41, 42]</td>\n",
       "      <td>1</td>\n",
       "      <td>41.5</td>\n",
       "    </tr>\n",
       "    <tr>\n",
       "      <th>45</th>\n",
       "      <td>(39, 40]</td>\n",
       "      <td>1</td>\n",
       "      <td>39.5</td>\n",
       "    </tr>\n",
       "    <tr>\n",
       "      <th>46</th>\n",
       "      <td>(46, 47]</td>\n",
       "      <td>1</td>\n",
       "      <td>46.5</td>\n",
       "    </tr>\n",
       "    <tr>\n",
       "      <th>47</th>\n",
       "      <td>(48, 49]</td>\n",
       "      <td>1</td>\n",
       "      <td>48.5</td>\n",
       "    </tr>\n",
       "    <tr>\n",
       "      <th>48</th>\n",
       "      <td>(45, 46]</td>\n",
       "      <td>0</td>\n",
       "      <td>45.5</td>\n",
       "    </tr>\n",
       "    <tr>\n",
       "      <th>49</th>\n",
       "      <td>(47, 48]</td>\n",
       "      <td>0</td>\n",
       "      <td>47.5</td>\n",
       "    </tr>\n",
       "    <tr>\n",
       "      <th>50</th>\n",
       "      <td>(49, 50]</td>\n",
       "      <td>0</td>\n",
       "      <td>49.5</td>\n",
       "    </tr>\n",
       "    <tr>\n",
       "      <th>51</th>\n",
       "      <td>(50, 51]</td>\n",
       "      <td>0</td>\n",
       "      <td>50.5</td>\n",
       "    </tr>\n",
       "  </tbody>\n",
       "</table>\n",
       "</div>"
      ],
      "text/plain": [
       "       range  number_of_products  rating\n",
       "0     (0, 1]             7632757     0.5\n",
       "1     (1, 2]              914752     1.5\n",
       "2     (2, 3]              311602     2.5\n",
       "3     (3, 4]              132340     3.5\n",
       "4     (4, 5]               65266     4.5\n",
       "5     (5, 6]               34554     5.5\n",
       "6     (6, 7]               18712     6.5\n",
       "7     (7, 8]                9801     7.5\n",
       "8     (8, 9]                4794     8.5\n",
       "9    (9, 10]                2650     9.5\n",
       "10  (10, 11]                1659    10.5\n",
       "11  (11, 12]                1097    11.5\n",
       "12  (12, 13]                 688    12.5\n",
       "13  (13, 14]                 493    13.5\n",
       "14  (14, 15]                 351    14.5\n",
       "15  (15, 16]                 232    15.5\n",
       "16  (16, 17]                 147    16.5\n",
       "17  (17, 18]                 100    17.5\n",
       "18  (18, 19]                  72    18.5\n",
       "19  (19, 20]                  65    19.5\n",
       "20  (20, 21]                  50    20.5\n",
       "21  (21, 22]                  44    21.5\n",
       "22  (22, 23]                  42    22.5\n",
       "23  (23, 24]                  32    23.5\n",
       "24  (26, 27]                  27    26.5\n",
       "25  (25, 26]                  24    25.5\n",
       "26  (27, 28]                  21    27.5\n",
       "27  (29, 30]                  19    29.5\n",
       "28  (32, 33]                  17    32.5\n",
       "29  (24, 25]                  16    24.5\n",
       "30  (28, 29]                  15    28.5\n",
       "31  (33, 34]                  12    33.5\n",
       "32  (31, 32]                  10    31.5\n",
       "33  (30, 31]                   8    30.5\n",
       "34  (35, 36]                   7    35.5\n",
       "35  (36, 37]                   7    36.5\n",
       "36  (34, 35]                   5    34.5\n",
       "37  (43, 44]                   3    43.5\n",
       "38  (42, 43]                   2    42.5\n",
       "39  (44, 45]                   2    44.5\n",
       "40  (38, 39]                   2    38.5\n",
       "41  (40, 41]                   2    40.5\n",
       "42  (37, 38]                   2    37.5\n",
       "43  (51, 52]                   2    51.5\n",
       "44  (41, 42]                   1    41.5\n",
       "45  (39, 40]                   1    39.5\n",
       "46  (46, 47]                   1    46.5\n",
       "47  (48, 49]                   1    48.5\n",
       "48  (45, 46]                   0    45.5\n",
       "49  (47, 48]                   0    47.5\n",
       "50  (49, 50]                   0    49.5\n",
       "51  (50, 51]                   0    50.5"
      ]
     },
     "execution_count": 178,
     "metadata": {},
     "output_type": "execute_result"
    }
   ],
   "source": [
    "bins = [\n",
    "    pd.Interval(left=left, right=left+1) \n",
    "    for left in range(int(np.floor(days_ratings['rating'].min())), int(np.ceil(days_ratings['rating'].max())))  \n",
    "]\n",
    "plot_data = days_ratings['rating'].value_counts(bins=bins).reset_index(name='number_of_products')\n",
    "plot_data.rename(columns={'index': 'range'}, inplace=True)\n",
    "plot_data['rating'] = plot_data['range'].map(lambda interval: (interval.left + interval.right) / 2)"
   ]
  },
  {
   "cell_type": "code",
   "execution_count": 179,
   "id": "834ffa16-714d-4994-ba3d-2253e3538d42",
   "metadata": {},
   "outputs": [],
   "source": [
    "save_data(plot_data, 'plot_days_hist_data.dmp')"
   ]
  },
  {
   "cell_type": "code",
   "execution_count": 180,
   "id": "e51036f6-127d-428c-b377-4107d21a8cdb",
   "metadata": {
    "tags": []
   },
   "outputs": [
    {
     "data": {
      "image/png": "[encoded data removed]",
      "text/plain": [
       "<Figure size 600x400 with 1 Axes>"
      ]
     },
     "metadata": {},
     "output_type": "display_data"
    }
   ],
   "source": [
    "ax = map10_days.plot(\n",
    "    title='Peak of accuracy of predictions of products in the next purchase'\n",
    "    '\\nfrom filter rates by purchase time',\n",
    "    xlabel='$a_d$', ylabel='$MAP@10$',\n",
    "    figsize=(6, 4), grid=True, fontsize=10, legend=False, alpha=0.75)\n",
    "ax.plot(map10_days.index.values, map10_days_approximated, linestyle='--', color='#ff7f0e', alpha=0.75)\n",
    "ax.scatter(days_rate, days_map10, color='#d62728', linewidth=1, alpha=0.75)\n",
    "ax.axvline(days_rate, color='#d62728', linestyle='--', linewidth=1, alpha=0.75)\n",
    "ax.axhline(days_map10, color='#d62728', linestyle='--', linewidth=1, alpha=0.75)\n",
    "_ = ax.legend(['Actual values', 'Approximation', 'Peak'])"
   ]
  },
  {
   "cell_type": "markdown",
   "id": "52268082-b95e-4817-8d3c-1195eb5c4bae",
   "metadata": {},
   "source": [
    "The graph shows that the value of the $a_d$ rate significantly affects the quality of filtration. At **values** of this rate **close to zero** (i.e. at weak filtration), as it should be, **the value of the $MAP@10$ metric is close to the value** obtained only on the basis of **purchase frequency**. Then, **as the rate grows**, a **rapid growth** of the prediction quality is observed, which **reaches** its **peak** at a value of the $a_d$ rate **in the region of $0.015...0.02$**. As the **rate value continues to grow**, the quality of filtration** expectedly begins **slowly decreasing** to the original value (the $MAP@10$ metric returns to the value obtained only on the basis of purchase frequency)."
   ]
  },
  {
   "cell_type": "markdown",
   "id": "98592c5d-83c6-4031-bc92-1a6b670546e7",
   "metadata": {},
   "source": [
    "Let's try to determine the position and magnitude of the peak of this dependence more precisely. To do this, we approximate the function on $[0, 0.1]$ of the $MAP@10(a_d)$ graph using a 7th-order polynomial function. After that, we find a point on this segment where the derivative of the polynomial function is zero. This will be the desired point of the refined position of the peak - the optimal value of the $a_d$ rate. And then, at that point, we will find the real value of the $MAP@10$ metric. This value will characterize the accuracy of predictions when using time filtering."
   ]
  },
  {
   "cell_type": "code",
   "execution_count": 181,
   "id": "afe3958e-36f2-4109-badf-0480ce1ead09",
   "metadata": {
    "tags": []
   },
   "outputs": [
    {
     "data": {
      "text/markdown": [
       "**Results**:<br>Filtering by purchase time gives a **significant increase in the accuracy** of predictions (the $MAP@10$ metric **increased** by **0.044813** from 0.280609 to 0.325421) with the filter rate $a_d$ equal to **0.017791**."
      ],
      "text/plain": [
       "<IPython.core.display.Markdown object>"
      ]
     },
     "execution_count": 181,
     "metadata": {},
     "output_type": "execute_result"
    }
   ],
   "source": [
    "md(\n",
    "    '**Results**:<br>'\n",
    "    'Filtering by purchase time gives a **significant increase in the accuracy** of predictions '\n",
    "    f'(the $MAP@10$ metric **increased** by **{(days_map10 - frequency_map_10):.6f}** from {frequency_map_10:.6f} to {days_map10:.6f}) '\n",
    "    f'with the filter rate $a_d$ equal to **{days_rate:.6f}**.'\n",
    ")"
   ]
  },
  {
   "cell_type": "markdown",
   "id": "93f245c9-2b94-4389-8ba1-3507338ebc90",
   "metadata": {},
   "source": [
    "***Note***:\n",
    "*Of course, it would have been possible to further improve the accuracy of predictions on training data by using time filtering for each customer separately and even for each product separately. But in this case, our model would have a very low generalization ability, i.e. the model would become heavily overfitted.*"
   ]
  },
  {
   "cell_type": "markdown",
   "id": "7d276b9a-1d2b-4106-a9f6-42fd9a1bf261",
   "metadata": {
    "tags": []
   },
   "source": [
    "#### Filter by product adding to cart order"
   ]
  },
  {
   "cell_type": "markdown",
   "id": "774a91f6-27de-4a41-89cc-a75f881e152c",
   "metadata": {},
   "source": [
    "Using statistical analysis, we confirmed the existence of a dependence of the share of purchased products included in the next order, the share of purchased products included in the next order, on the numbers of their addition to. Let's try to take this circumstance into account and reduce the weight of products with an increase in the order number of their addition to the basket. Just as in the case of filtering by purchase time, we will use exponential filtering. And we will also use a single rate for the products of all transactions of all customers. As a result, each product of each transaction of each customer **has its own weight**, which is described by the following formula:\n",
    "\n",
    "$$w_{u,i,t} = e^{-d_{u,t} a_d} e^{-c_{u,i,t} a_c}$$\n",
    "\n",
    "where&nbsp;$w_{u,i,t}$ is the weight of product with number $i$ in transaction with number $t$ of customer with number $u$;  \n",
    "&nbsp;&nbsp;&nbsp;&nbsp;&nbsp;&nbsp;&nbsp;&nbsp;&nbsp;&nbsp;&nbsp;$d_{u,t}$ - time of transaction with number $t$ of customer with number $u$;  \n",
    "&nbsp;&nbsp;&nbsp;&nbsp;&nbsp;&nbsp;&nbsp;&nbsp;&nbsp;&nbsp;&nbsp;$a_d$ - filtering rate by transaction purchase time;  \n",
    "&nbsp;&nbsp;&nbsp;&nbsp;&nbsp;&nbsp;&nbsp;&nbsp;&nbsp;&nbsp;&nbsp;$c_{u,i,t}$ - order number of adding product with number $i$ to cart in transaction with number $t$ of customer with number $u$;  \n",
    "&nbsp;&nbsp;&nbsp;&nbsp;&nbsp;&nbsp;&nbsp;&nbsp;&nbsp;&nbsp;&nbsp;$a_c$ - filtering rate by the number of adding a product to the basket.\n",
    "\n",
    "When adding this filtering, the formula for calculating ratings will take the following form:\n",
    "$$r_{u,i}=\\sum_{t \\in T_u}s_{u,i,t}·w_{u,i,t} = \\sum_{t \\in T_u}s_{u,i,t}·e^{-d_{u,t}·a_d}·e^{-c_{u,i,t}·a_c}$$"
   ]
  },
  {
   "cell_type": "markdown",
   "id": "cbb6d24b-4cd1-4358-821a-24b537d22693",
   "metadata": {},
   "source": [
    "To check the effect of filtering by the adding to the cart order and the influence of the value of the rate $a_c$ on the accuracy of predictions using it, we will plot a graph of the dependence of the value of the metric $MAP@10$ on the value of this rate."
   ]
  },
  {
   "cell_type": "code",
   "execution_count": 182,
   "id": "fbb00a91-ba62-4363-9a4a-2400e73c1f36",
   "metadata": {
    "tags": []
   },
   "outputs": [
    {
     "name": "stdout",
     "output_type": "stream",
     "text": [
      "\n",
      "IPython CPU timings (estimated):\n",
      "  User   :       0.08 s.\n",
      "  System :       0.00 s.\n",
      "Wall time:     177.72 s.\n"
     ]
    },
    {
     "data": {
      "text/plain": [
       "<Figure size 640x480 with 0 Axes>"
      ]
     },
     "metadata": {},
     "output_type": "display_data"
    }
   ],
   "source": [
    "start, stop, num = 0.0, 0.05, 21\n",
    "map10_cart = multiprocessing(start=start, stop=stop, num=num, func='get_map10_by_cart_rates', \n",
    "                             days_rate=days_rate)"
   ]
  },
  {
   "cell_type": "code",
   "execution_count": 186,
   "id": "b108eb4c-7215-448b-9151-a3f4270d8946",
   "metadata": {
    "tags": []
   },
   "outputs": [],
   "source": [
    "map10_cart_approximated, cart_rate = f.approximate_precision_by_rate(map10_cart.index, map10_cart, 3)\n",
    "cart_weights = f.get_weights(prior_transactions, days_rate=days_rate, cart_rate=cart_rate)\n",
    "cart_ratings = f.get_ratings(cart_weights)\n",
    "cart_prediction = f.get_prediction(cart_ratings)\n",
    "cart_map10 = f.get_prediction_precision(last_products, cart_prediction)"
   ]
  },
  {
   "cell_type": "code",
   "execution_count": 184,
   "id": "eff390f3-d857-4feb-bec3-0794032322b1",
   "metadata": {},
   "outputs": [],
   "source": [
    "# Saving data\n",
    "save_data(cart_map10, 'cart_map10.dmp')\n",
    "save_data(cart_rate, 'cart_rate.dmp')"
   ]
  },
  {
   "cell_type": "code",
   "execution_count": 187,
   "id": "471966a1-abf5-40eb-b0b8-455c5a3f8db3",
   "metadata": {},
   "outputs": [
    {
     "data": {
      "text/html": [
       "<div>\n",
       "<style scoped>\n",
       "    .dataframe tbody tr th:only-of-type {\n",
       "        vertical-align: middle;\n",
       "    }\n",
       "\n",
       "    .dataframe tbody tr th {\n",
       "        vertical-align: top;\n",
       "    }\n",
       "\n",
       "    .dataframe thead th {\n",
       "        text-align: right;\n",
       "    }\n",
       "</style>\n",
       "<table border=\"1\" class=\"dataframe\">\n",
       "  <thead>\n",
       "    <tr style=\"text-align: right;\">\n",
       "      <th></th>\n",
       "      <th>cart_rate</th>\n",
       "      <th>precision</th>\n",
       "      <th>type</th>\n",
       "    </tr>\n",
       "  </thead>\n",
       "  <tbody>\n",
       "    <tr>\n",
       "      <th>0</th>\n",
       "      <td>0.0000</td>\n",
       "      <td>0.325421</td>\n",
       "      <td>actual</td>\n",
       "    </tr>\n",
       "    <tr>\n",
       "      <th>1</th>\n",
       "      <td>0.0025</td>\n",
       "      <td>0.326044</td>\n",
       "      <td>actual</td>\n",
       "    </tr>\n",
       "    <tr>\n",
       "      <th>2</th>\n",
       "      <td>0.0050</td>\n",
       "      <td>0.326223</td>\n",
       "      <td>actual</td>\n",
       "    </tr>\n",
       "    <tr>\n",
       "      <th>3</th>\n",
       "      <td>0.0075</td>\n",
       "      <td>0.326337</td>\n",
       "      <td>actual</td>\n",
       "    </tr>\n",
       "    <tr>\n",
       "      <th>4</th>\n",
       "      <td>0.0100</td>\n",
       "      <td>0.326420</td>\n",
       "      <td>actual</td>\n",
       "    </tr>\n",
       "    <tr>\n",
       "      <th>5</th>\n",
       "      <td>0.0125</td>\n",
       "      <td>0.326445</td>\n",
       "      <td>actual</td>\n",
       "    </tr>\n",
       "    <tr>\n",
       "      <th>6</th>\n",
       "      <td>0.0150</td>\n",
       "      <td>0.326482</td>\n",
       "      <td>actual</td>\n",
       "    </tr>\n",
       "    <tr>\n",
       "      <th>7</th>\n",
       "      <td>0.0175</td>\n",
       "      <td>0.326494</td>\n",
       "      <td>actual</td>\n",
       "    </tr>\n",
       "    <tr>\n",
       "      <th>8</th>\n",
       "      <td>0.0200</td>\n",
       "      <td>0.326456</td>\n",
       "      <td>actual</td>\n",
       "    </tr>\n",
       "    <tr>\n",
       "      <th>9</th>\n",
       "      <td>0.0225</td>\n",
       "      <td>0.326455</td>\n",
       "      <td>actual</td>\n",
       "    </tr>\n",
       "    <tr>\n",
       "      <th>10</th>\n",
       "      <td>0.0250</td>\n",
       "      <td>0.326436</td>\n",
       "      <td>actual</td>\n",
       "    </tr>\n",
       "    <tr>\n",
       "      <th>11</th>\n",
       "      <td>0.0275</td>\n",
       "      <td>0.326395</td>\n",
       "      <td>actual</td>\n",
       "    </tr>\n",
       "    <tr>\n",
       "      <th>12</th>\n",
       "      <td>0.0300</td>\n",
       "      <td>0.326284</td>\n",
       "      <td>actual</td>\n",
       "    </tr>\n",
       "    <tr>\n",
       "      <th>13</th>\n",
       "      <td>0.0325</td>\n",
       "      <td>0.326176</td>\n",
       "      <td>actual</td>\n",
       "    </tr>\n",
       "    <tr>\n",
       "      <th>14</th>\n",
       "      <td>0.0350</td>\n",
       "      <td>0.326083</td>\n",
       "      <td>actual</td>\n",
       "    </tr>\n",
       "    <tr>\n",
       "      <th>15</th>\n",
       "      <td>0.0375</td>\n",
       "      <td>0.325912</td>\n",
       "      <td>actual</td>\n",
       "    </tr>\n",
       "    <tr>\n",
       "      <th>16</th>\n",
       "      <td>0.0400</td>\n",
       "      <td>0.325744</td>\n",
       "      <td>actual</td>\n",
       "    </tr>\n",
       "    <tr>\n",
       "      <th>17</th>\n",
       "      <td>0.0425</td>\n",
       "      <td>0.325555</td>\n",
       "      <td>actual</td>\n",
       "    </tr>\n",
       "    <tr>\n",
       "      <th>18</th>\n",
       "      <td>0.0450</td>\n",
       "      <td>0.325382</td>\n",
       "      <td>actual</td>\n",
       "    </tr>\n",
       "    <tr>\n",
       "      <th>19</th>\n",
       "      <td>0.0475</td>\n",
       "      <td>0.325197</td>\n",
       "      <td>actual</td>\n",
       "    </tr>\n",
       "    <tr>\n",
       "      <th>20</th>\n",
       "      <td>0.0500</td>\n",
       "      <td>0.324955</td>\n",
       "      <td>actual</td>\n",
       "    </tr>\n",
       "    <tr>\n",
       "      <th>21</th>\n",
       "      <td>0.0000</td>\n",
       "      <td>0.325651</td>\n",
       "      <td>approximated</td>\n",
       "    </tr>\n",
       "    <tr>\n",
       "      <th>22</th>\n",
       "      <td>0.0025</td>\n",
       "      <td>0.325893</td>\n",
       "      <td>approximated</td>\n",
       "    </tr>\n",
       "    <tr>\n",
       "      <th>23</th>\n",
       "      <td>0.0050</td>\n",
       "      <td>0.326094</td>\n",
       "      <td>approximated</td>\n",
       "    </tr>\n",
       "    <tr>\n",
       "      <th>24</th>\n",
       "      <td>0.0075</td>\n",
       "      <td>0.326255</td>\n",
       "      <td>approximated</td>\n",
       "    </tr>\n",
       "    <tr>\n",
       "      <th>25</th>\n",
       "      <td>0.0100</td>\n",
       "      <td>0.326379</td>\n",
       "      <td>approximated</td>\n",
       "    </tr>\n",
       "    <tr>\n",
       "      <th>26</th>\n",
       "      <td>0.0125</td>\n",
       "      <td>0.326467</td>\n",
       "      <td>approximated</td>\n",
       "    </tr>\n",
       "    <tr>\n",
       "      <th>27</th>\n",
       "      <td>0.0150</td>\n",
       "      <td>0.326523</td>\n",
       "      <td>approximated</td>\n",
       "    </tr>\n",
       "    <tr>\n",
       "      <th>28</th>\n",
       "      <td>0.0175</td>\n",
       "      <td>0.326548</td>\n",
       "      <td>approximated</td>\n",
       "    </tr>\n",
       "    <tr>\n",
       "      <th>29</th>\n",
       "      <td>0.0200</td>\n",
       "      <td>0.326544</td>\n",
       "      <td>approximated</td>\n",
       "    </tr>\n",
       "    <tr>\n",
       "      <th>30</th>\n",
       "      <td>0.0225</td>\n",
       "      <td>0.326513</td>\n",
       "      <td>approximated</td>\n",
       "    </tr>\n",
       "    <tr>\n",
       "      <th>31</th>\n",
       "      <td>0.0250</td>\n",
       "      <td>0.326457</td>\n",
       "      <td>approximated</td>\n",
       "    </tr>\n",
       "    <tr>\n",
       "      <th>32</th>\n",
       "      <td>0.0275</td>\n",
       "      <td>0.326379</td>\n",
       "      <td>approximated</td>\n",
       "    </tr>\n",
       "    <tr>\n",
       "      <th>33</th>\n",
       "      <td>0.0300</td>\n",
       "      <td>0.326280</td>\n",
       "      <td>approximated</td>\n",
       "    </tr>\n",
       "    <tr>\n",
       "      <th>34</th>\n",
       "      <td>0.0325</td>\n",
       "      <td>0.326163</td>\n",
       "      <td>approximated</td>\n",
       "    </tr>\n",
       "    <tr>\n",
       "      <th>35</th>\n",
       "      <td>0.0350</td>\n",
       "      <td>0.326029</td>\n",
       "      <td>approximated</td>\n",
       "    </tr>\n",
       "    <tr>\n",
       "      <th>36</th>\n",
       "      <td>0.0375</td>\n",
       "      <td>0.325882</td>\n",
       "      <td>approximated</td>\n",
       "    </tr>\n",
       "    <tr>\n",
       "      <th>37</th>\n",
       "      <td>0.0400</td>\n",
       "      <td>0.325722</td>\n",
       "      <td>approximated</td>\n",
       "    </tr>\n",
       "    <tr>\n",
       "      <th>38</th>\n",
       "      <td>0.0425</td>\n",
       "      <td>0.325552</td>\n",
       "      <td>approximated</td>\n",
       "    </tr>\n",
       "    <tr>\n",
       "      <th>39</th>\n",
       "      <td>0.0450</td>\n",
       "      <td>0.325374</td>\n",
       "      <td>approximated</td>\n",
       "    </tr>\n",
       "    <tr>\n",
       "      <th>40</th>\n",
       "      <td>0.0475</td>\n",
       "      <td>0.325190</td>\n",
       "      <td>approximated</td>\n",
       "    </tr>\n",
       "    <tr>\n",
       "      <th>41</th>\n",
       "      <td>0.0500</td>\n",
       "      <td>0.325002</td>\n",
       "      <td>approximated</td>\n",
       "    </tr>\n",
       "  </tbody>\n",
       "</table>\n",
       "</div>"
      ],
      "text/plain": [
       "    cart_rate  precision          type\n",
       "0      0.0000   0.325421        actual\n",
       "1      0.0025   0.326044        actual\n",
       "2      0.0050   0.326223        actual\n",
       "3      0.0075   0.326337        actual\n",
       "4      0.0100   0.326420        actual\n",
       "5      0.0125   0.326445        actual\n",
       "6      0.0150   0.326482        actual\n",
       "7      0.0175   0.326494        actual\n",
       "8      0.0200   0.326456        actual\n",
       "9      0.0225   0.326455        actual\n",
       "10     0.0250   0.326436        actual\n",
       "11     0.0275   0.326395        actual\n",
       "12     0.0300   0.326284        actual\n",
       "13     0.0325   0.326176        actual\n",
       "14     0.0350   0.326083        actual\n",
       "15     0.0375   0.325912        actual\n",
       "16     0.0400   0.325744        actual\n",
       "17     0.0425   0.325555        actual\n",
       "18     0.0450   0.325382        actual\n",
       "19     0.0475   0.325197        actual\n",
       "20     0.0500   0.324955        actual\n",
       "21     0.0000   0.325651  approximated\n",
       "22     0.0025   0.325893  approximated\n",
       "23     0.0050   0.326094  approximated\n",
       "24     0.0075   0.326255  approximated\n",
       "25     0.0100   0.326379  approximated\n",
       "26     0.0125   0.326467  approximated\n",
       "27     0.0150   0.326523  approximated\n",
       "28     0.0175   0.326548  approximated\n",
       "29     0.0200   0.326544  approximated\n",
       "30     0.0225   0.326513  approximated\n",
       "31     0.0250   0.326457  approximated\n",
       "32     0.0275   0.326379  approximated\n",
       "33     0.0300   0.326280  approximated\n",
       "34     0.0325   0.326163  approximated\n",
       "35     0.0350   0.326029  approximated\n",
       "36     0.0375   0.325882  approximated\n",
       "37     0.0400   0.325722  approximated\n",
       "38     0.0425   0.325552  approximated\n",
       "39     0.0450   0.325374  approximated\n",
       "40     0.0475   0.325190  approximated\n",
       "41     0.0500   0.325002  approximated"
      ]
     },
     "execution_count": 187,
     "metadata": {},
     "output_type": "execute_result"
    }
   ],
   "source": [
    "plot_data = map10_cart.reset_index()\n",
    "plot_data['type'] = 'actual'\n",
    "index = pd.RangeIndex(map10_cart.shape[0], map10_cart.shape[0] + map10_cart_approximated.shape[0])\n",
    "for i in index:\n",
    "    plot_data.loc[i, 'type'] = 'approximated'\n",
    "plot_data.loc[index, 'cart_rate'] = map10_cart.index\n",
    "plot_data.loc[index, 'precision'] = map10_cart_approximated\n",
    "# plot_data.loc[index.stop] = [days_rate, days_map10, 'peak']\n",
    "plot_data"
   ]
  },
  {
   "cell_type": "code",
   "execution_count": 188,
   "id": "180f257d-b4ca-4f49-bf1e-6f6584988fdd",
   "metadata": {},
   "outputs": [],
   "source": [
    "save_data(plot_data, 'plot_cart_data.dmp')"
   ]
  },
  {
   "cell_type": "code",
   "execution_count": 189,
   "id": "05c7b8b6-0b83-487f-9938-f3e1f101798a",
   "metadata": {},
   "outputs": [
    {
     "data": {
      "text/html": [
       "<div>\n",
       "<style scoped>\n",
       "    .dataframe tbody tr th:only-of-type {\n",
       "        vertical-align: middle;\n",
       "    }\n",
       "\n",
       "    .dataframe tbody tr th {\n",
       "        vertical-align: top;\n",
       "    }\n",
       "\n",
       "    .dataframe thead th {\n",
       "        text-align: right;\n",
       "    }\n",
       "</style>\n",
       "<table border=\"1\" class=\"dataframe\">\n",
       "  <thead>\n",
       "    <tr style=\"text-align: right;\">\n",
       "      <th></th>\n",
       "      <th>range</th>\n",
       "      <th>number_of_products</th>\n",
       "      <th>rating</th>\n",
       "    </tr>\n",
       "  </thead>\n",
       "  <tbody>\n",
       "    <tr>\n",
       "      <th>0</th>\n",
       "      <td>(0, 1]</td>\n",
       "      <td>7875980</td>\n",
       "      <td>0.5</td>\n",
       "    </tr>\n",
       "    <tr>\n",
       "      <th>1</th>\n",
       "      <td>(1, 2]</td>\n",
       "      <td>798549</td>\n",
       "      <td>1.5</td>\n",
       "    </tr>\n",
       "    <tr>\n",
       "      <th>2</th>\n",
       "      <td>(2, 3]</td>\n",
       "      <td>250877</td>\n",
       "      <td>2.5</td>\n",
       "    </tr>\n",
       "    <tr>\n",
       "      <th>3</th>\n",
       "      <td>(3, 4]</td>\n",
       "      <td>103451</td>\n",
       "      <td>3.5</td>\n",
       "    </tr>\n",
       "    <tr>\n",
       "      <th>4</th>\n",
       "      <td>(4, 5]</td>\n",
       "      <td>50113</td>\n",
       "      <td>4.5</td>\n",
       "    </tr>\n",
       "    <tr>\n",
       "      <th>5</th>\n",
       "      <td>(5, 6]</td>\n",
       "      <td>25420</td>\n",
       "      <td>5.5</td>\n",
       "    </tr>\n",
       "    <tr>\n",
       "      <th>6</th>\n",
       "      <td>(6, 7]</td>\n",
       "      <td>13229</td>\n",
       "      <td>6.5</td>\n",
       "    </tr>\n",
       "    <tr>\n",
       "      <th>7</th>\n",
       "      <td>(7, 8]</td>\n",
       "      <td>6197</td>\n",
       "      <td>7.5</td>\n",
       "    </tr>\n",
       "    <tr>\n",
       "      <th>8</th>\n",
       "      <td>(8, 9]</td>\n",
       "      <td>3244</td>\n",
       "      <td>8.5</td>\n",
       "    </tr>\n",
       "    <tr>\n",
       "      <th>9</th>\n",
       "      <td>(9, 10]</td>\n",
       "      <td>1863</td>\n",
       "      <td>9.5</td>\n",
       "    </tr>\n",
       "    <tr>\n",
       "      <th>10</th>\n",
       "      <td>(10, 11]</td>\n",
       "      <td>1188</td>\n",
       "      <td>10.5</td>\n",
       "    </tr>\n",
       "    <tr>\n",
       "      <th>11</th>\n",
       "      <td>(11, 12]</td>\n",
       "      <td>689</td>\n",
       "      <td>11.5</td>\n",
       "    </tr>\n",
       "    <tr>\n",
       "      <th>12</th>\n",
       "      <td>(12, 13]</td>\n",
       "      <td>506</td>\n",
       "      <td>12.5</td>\n",
       "    </tr>\n",
       "    <tr>\n",
       "      <th>13</th>\n",
       "      <td>(13, 14]</td>\n",
       "      <td>361</td>\n",
       "      <td>13.5</td>\n",
       "    </tr>\n",
       "    <tr>\n",
       "      <th>14</th>\n",
       "      <td>(14, 15]</td>\n",
       "      <td>208</td>\n",
       "      <td>14.5</td>\n",
       "    </tr>\n",
       "    <tr>\n",
       "      <th>15</th>\n",
       "      <td>(15, 16]</td>\n",
       "      <td>145</td>\n",
       "      <td>15.5</td>\n",
       "    </tr>\n",
       "    <tr>\n",
       "      <th>16</th>\n",
       "      <td>(16, 17]</td>\n",
       "      <td>102</td>\n",
       "      <td>16.5</td>\n",
       "    </tr>\n",
       "    <tr>\n",
       "      <th>17</th>\n",
       "      <td>(17, 18]</td>\n",
       "      <td>80</td>\n",
       "      <td>17.5</td>\n",
       "    </tr>\n",
       "    <tr>\n",
       "      <th>18</th>\n",
       "      <td>(18, 19]</td>\n",
       "      <td>58</td>\n",
       "      <td>18.5</td>\n",
       "    </tr>\n",
       "    <tr>\n",
       "      <th>19</th>\n",
       "      <td>(19, 20]</td>\n",
       "      <td>57</td>\n",
       "      <td>19.5</td>\n",
       "    </tr>\n",
       "    <tr>\n",
       "      <th>20</th>\n",
       "      <td>(21, 22]</td>\n",
       "      <td>35</td>\n",
       "      <td>21.5</td>\n",
       "    </tr>\n",
       "    <tr>\n",
       "      <th>21</th>\n",
       "      <td>(20, 21]</td>\n",
       "      <td>32</td>\n",
       "      <td>20.5</td>\n",
       "    </tr>\n",
       "    <tr>\n",
       "      <th>22</th>\n",
       "      <td>(25, 26]</td>\n",
       "      <td>24</td>\n",
       "      <td>25.5</td>\n",
       "    </tr>\n",
       "    <tr>\n",
       "      <th>23</th>\n",
       "      <td>(22, 23]</td>\n",
       "      <td>17</td>\n",
       "      <td>22.5</td>\n",
       "    </tr>\n",
       "    <tr>\n",
       "      <th>24</th>\n",
       "      <td>(23, 24]</td>\n",
       "      <td>17</td>\n",
       "      <td>23.5</td>\n",
       "    </tr>\n",
       "    <tr>\n",
       "      <th>25</th>\n",
       "      <td>(26, 27]</td>\n",
       "      <td>15</td>\n",
       "      <td>26.5</td>\n",
       "    </tr>\n",
       "    <tr>\n",
       "      <th>26</th>\n",
       "      <td>(27, 28]</td>\n",
       "      <td>14</td>\n",
       "      <td>27.5</td>\n",
       "    </tr>\n",
       "    <tr>\n",
       "      <th>27</th>\n",
       "      <td>(24, 25]</td>\n",
       "      <td>9</td>\n",
       "      <td>24.5</td>\n",
       "    </tr>\n",
       "    <tr>\n",
       "      <th>28</th>\n",
       "      <td>(30, 31]</td>\n",
       "      <td>7</td>\n",
       "      <td>30.5</td>\n",
       "    </tr>\n",
       "    <tr>\n",
       "      <th>29</th>\n",
       "      <td>(28, 29]</td>\n",
       "      <td>6</td>\n",
       "      <td>28.5</td>\n",
       "    </tr>\n",
       "    <tr>\n",
       "      <th>30</th>\n",
       "      <td>(29, 30]</td>\n",
       "      <td>5</td>\n",
       "      <td>29.5</td>\n",
       "    </tr>\n",
       "    <tr>\n",
       "      <th>31</th>\n",
       "      <td>(34, 35]</td>\n",
       "      <td>4</td>\n",
       "      <td>34.5</td>\n",
       "    </tr>\n",
       "    <tr>\n",
       "      <th>32</th>\n",
       "      <td>(31, 32]</td>\n",
       "      <td>3</td>\n",
       "      <td>31.5</td>\n",
       "    </tr>\n",
       "    <tr>\n",
       "      <th>33</th>\n",
       "      <td>(33, 34]</td>\n",
       "      <td>1</td>\n",
       "      <td>33.5</td>\n",
       "    </tr>\n",
       "    <tr>\n",
       "      <th>34</th>\n",
       "      <td>(35, 36]</td>\n",
       "      <td>1</td>\n",
       "      <td>35.5</td>\n",
       "    </tr>\n",
       "    <tr>\n",
       "      <th>35</th>\n",
       "      <td>(32, 33]</td>\n",
       "      <td>0</td>\n",
       "      <td>32.5</td>\n",
       "    </tr>\n",
       "  </tbody>\n",
       "</table>\n",
       "</div>"
      ],
      "text/plain": [
       "       range  number_of_products  rating\n",
       "0     (0, 1]             7875980     0.5\n",
       "1     (1, 2]              798549     1.5\n",
       "2     (2, 3]              250877     2.5\n",
       "3     (3, 4]              103451     3.5\n",
       "4     (4, 5]               50113     4.5\n",
       "5     (5, 6]               25420     5.5\n",
       "6     (6, 7]               13229     6.5\n",
       "7     (7, 8]                6197     7.5\n",
       "8     (8, 9]                3244     8.5\n",
       "9    (9, 10]                1863     9.5\n",
       "10  (10, 11]                1188    10.5\n",
       "11  (11, 12]                 689    11.5\n",
       "12  (12, 13]                 506    12.5\n",
       "13  (13, 14]                 361    13.5\n",
       "14  (14, 15]                 208    14.5\n",
       "15  (15, 16]                 145    15.5\n",
       "16  (16, 17]                 102    16.5\n",
       "17  (17, 18]                  80    17.5\n",
       "18  (18, 19]                  58    18.5\n",
       "19  (19, 20]                  57    19.5\n",
       "20  (21, 22]                  35    21.5\n",
       "21  (20, 21]                  32    20.5\n",
       "22  (25, 26]                  24    25.5\n",
       "23  (22, 23]                  17    22.5\n",
       "24  (23, 24]                  17    23.5\n",
       "25  (26, 27]                  15    26.5\n",
       "26  (27, 28]                  14    27.5\n",
       "27  (24, 25]                   9    24.5\n",
       "28  (30, 31]                   7    30.5\n",
       "29  (28, 29]                   6    28.5\n",
       "30  (29, 30]                   5    29.5\n",
       "31  (34, 35]                   4    34.5\n",
       "32  (31, 32]                   3    31.5\n",
       "33  (33, 34]                   1    33.5\n",
       "34  (35, 36]                   1    35.5\n",
       "35  (32, 33]                   0    32.5"
      ]
     },
     "execution_count": 189,
     "metadata": {},
     "output_type": "execute_result"
    }
   ],
   "source": [
    "bins = [\n",
    "    pd.Interval(left=left, right=left+1) \n",
    "    for left in range(int(np.floor(cart_ratings['rating'].min())), int(np.ceil(cart_ratings['rating'].max())))  \n",
    "]\n",
    "plot_data = cart_ratings['rating'].value_counts(bins=bins).reset_index(name='number_of_products')\n",
    "plot_data.rename(columns={'index': 'range'}, inplace=True)\n",
    "plot_data['rating'] = plot_data['range'].map(lambda interval: (interval.left + interval.right) / 2)\n",
    "plot_data"
   ]
  },
  {
   "cell_type": "code",
   "execution_count": 190,
   "id": "abbda4c5-0a1c-4cae-aad7-f40a535cc431",
   "metadata": {},
   "outputs": [],
   "source": [
    "save_data(plot_data, 'plot_cart_hist_data.dmp')"
   ]
  },
  {
   "cell_type": "code",
   "execution_count": 191,
   "id": "f81cd61c-0de7-432a-a527-f4c380831ef9",
   "metadata": {
    "tags": []
   },
   "outputs": [
    {
     "data": {
      "image/png": "[encoded data removed]",
      "text/plain": [
       "<Figure size 600x400 with 1 Axes>"
      ]
     },
     "metadata": {},
     "output_type": "display_data"
    }
   ],
   "source": [
    "ax = map10_cart.plot(\n",
    "    xlabel='$a_с$', ylabel='$MAP@10$',\n",
    "    figsize=(6, 4), grid=True, fontsize=10, legend=False, alpha=0.75)\n",
    "ax.set_title('Dependence of the accuracy of predictions of products in the next purchase\\n'\n",
    "    'on the filtering rate by the number of adding a product to the cart', y=1.05)\n",
    "ax.plot(map10_cart.index.values, map10_cart_approximated, linestyle='--', color='#ff7f0e', alpha=0.75)\n",
    "ax.scatter(cart_rate, cart_map10, color='#d62728', linewidth=1, alpha=0.75)\n",
    "ax.axvline(cart_rate, color='#d62728', linestyle='--', linewidth=1, alpha=0.75)\n",
    "ax.axhline(cart_map10, color='#d62728', linestyle='--', linewidth=1, alpha=0.75)\n",
    "_ = ax.legend(['Actual values', 'Approximation', 'Peak'])"
   ]
  },
  {
   "cell_type": "code",
   "execution_count": 192,
   "id": "9f823ca5-d16f-47f4-923d-aae11dd0f179",
   "metadata": {},
   "outputs": [
    {
     "data": {
      "text/plain": [
       "(0.0, 20.0)"
      ]
     },
     "execution_count": 192,
     "metadata": {},
     "output_type": "execute_result"
    },
    {
     "data": {
      "image/png": "[encoded data removed]",
      "text/plain": [
       "<Figure size 640x480 with 1 Axes>"
      ]
     },
     "metadata": {},
     "output_type": "display_data"
    }
   ],
   "source": [
    "ax = cart_ratings['rating'].hist(bins=int(np.ceil(cart_ratings['rating']).max()))\n",
    "ax.set_xlim(0, 20)"
   ]
  },
  {
   "cell_type": "markdown",
   "id": "324c2764-12b3-47ec-bd5c-757ab97936c0",
   "metadata": {},
   "source": [
    "The graph shows that the value of the rate $a_c$ affects the quality of filtration. Thus, at **values** of this rate **close to zero** (i.e. at weak filtration), as it should be, **the value** of the $MAP@10$ metric **is close to the value obtained after applying frequency and time filtration**. Then, as the rates grow, a slight increase in the quality of filtration is observed, which **reaches** its **peak** at a rate value in the region of **0.016...0.02**. As the value of the rate continues to grow, the quality of filtration begins to rapidly decrease. And at rate values **greater than 0.045**, the effect of filtration becomes **negative** (the $MAP@10$ metric falls below the value obtained by filtering by frequency and time)."
   ]
  },
  {
   "cell_type": "markdown",
   "id": "3900fdcf-66a6-4362-aaed-179e300f5780",
   "metadata": {},
   "source": [
    "Let's try to determine the position and value of the peak of this dependence more precisely. To do this, on the segment $[0, 0.05]$ we approximate the function $MAP@10(a_d)$ using a 3rd order polynomial function. After that, we find a point on this segment at which the derivative of the polynomial function is zero. This will be the desired point of the refined position of the peak - the optimal value of the rate $a_c$. And then at that point we will find the real value of the metric $MAP@10$. This value will characterize the accuracy of predictions when using filtering by the number of adding a product to the basket."
   ]
  },
  {
   "cell_type": "code",
   "execution_count": 193,
   "id": "676a063f-7185-4978-bfea-4b5e1d39c29d",
   "metadata": {
    "tags": []
   },
   "outputs": [
    {
     "data": {
      "text/markdown": [
       "**Results**:<br>Filtering by the product addition number to the cart gave a **small increase in the accuracy** of predictions (the $MAP@10$ metric **increased** by only **0.001062** from 0.325421 to 0.326484) with the filtering rate $a_c$ equal to **0.018372**."
      ],
      "text/plain": [
       "<IPython.core.display.Markdown object>"
      ]
     },
     "execution_count": 193,
     "metadata": {},
     "output_type": "execute_result"
    }
   ],
   "source": [
    "md(\n",
    "    '**Results**:<br>'\n",
    "    'Filtering by the product addition number to the cart gave a **small increase in the accuracy** of predictions '\n",
    "    f'(the $MAP@10$ metric **increased** by only **{(cart_map10 - days_map10):.6f}** from {days_map10:.6f} to {cart_map10:.6f}) '\n",
    "    f'with the filtering rate $a_c$ equal to **{cart_rate:.6f}**.'\n",
    ")"
   ]
  },
  {
   "cell_type": "markdown",
   "id": "39a864f6-cc3d-4add-b729-031f22e347ad",
   "metadata": {
    "tags": []
   },
   "source": [
    "#### Filter by product popularity among all customers"
   ]
  },
  {
   "cell_type": "markdown",
   "id": "d1bcaa54-ce2f-4a9b-898f-1fc2fda20af7",
   "metadata": {},
   "source": [
    "For each product, in addition to the rating for a specific customer, you can determine its global rating, which is the average rating of this product among all customers. This rating is calculated using the formula:\n",
    "$$r^g_i={\\sum_{u \\in U}r_{u,i} \\over |U|},$$\n",
    "where&nbsp;$r^g_i$ is the global rating of product with number $i$;  \n",
    "&nbsp;&nbsp;&nbsp;&nbsp;&nbsp;&nbsp;&nbsp;&nbsp;&nbsp;&nbsp;&nbsp;$U$ is the set of customer numbers in transactions;  \n",
    "&nbsp;&nbsp;&nbsp;&nbsp;&nbsp;&nbsp;&nbsp;&nbsp;&nbsp;&nbsp;&nbsp;$r_{u,i}$ is the rating of product with number $i$ for customer with number $u$.\n",
    "\n",
    "Let's try to analyze products with which global rating were mistakenly not included in the recommendations based on the above filters."
   ]
  },
  {
   "cell_type": "markdown",
   "id": "52735e1f-6b3b-4c7f-8291-beb83becfeb4",
   "metadata": {},
   "source": [
    "First, we find global product ratings based on previous transactions."
   ]
  },
  {
   "cell_type": "code",
   "execution_count": 194,
   "id": "9daa6914-4a09-4b65-894f-9973e821a7bf",
   "metadata": {},
   "outputs": [],
   "source": [
    "total_ratings = f.get_total_ratings(\n",
    "    f.get_weights(\n",
    "        prior_transactions, days_rate=days_rate, cart_rate=cart_rate))\\\n",
    "    .rename(columns={'rating': 'total_rating'})\n",
    "total_ratings['total_rank'] = total_ratings['total_rating'].rank(ascending=False).astype(int)"
   ]
  },
  {
   "cell_type": "markdown",
   "id": "feee471d-6650-48e3-8dce-d06376420b5b",
   "metadata": {},
   "source": [
    "Then we find a list of the most recently purchased products by customers that were not included in the recommendations."
   ]
  },
  {
   "cell_type": "code",
   "execution_count": 195,
   "id": "7cca9c4f-be85-4eee-b863-864aa7c701a5",
   "metadata": {},
   "outputs": [],
   "source": [
    "prediction = f.get_prediction(\n",
    "    f.get_ratings(\n",
    "        f.get_weights(prior_transactions, days_rate=days_rate, cart_rate=cart_rate)))\n",
    "total_missed_last_products = last_transactions\\\n",
    "    .merge(prediction, on=['user_id', 'product_id'], how='left')\n",
    "total_missed_last_products = total_missed_last_products.loc[total_missed_last_products['rating'].isna()]\\\n",
    "    .reset_index(drop=True).drop(columns='rating')"
   ]
  },
  {
   "cell_type": "markdown",
   "id": "e084ad71-236d-4086-85fe-9c88801d53ff",
   "metadata": {},
   "source": [
    "We add the information received about the ratings of the recently purchased products."
   ]
  },
  {
   "cell_type": "code",
   "execution_count": 196,
   "id": "ea29cc22-33a7-4b49-b7ef-391d5833fc27",
   "metadata": {},
   "outputs": [],
   "source": [
    "total_missed_last_products = total_missed_last_products\\\n",
    "    .merge(total_ratings[['product_id', 'total_rating', 'total_rank']], on='product_id', how='left')"
   ]
  },
  {
   "cell_type": "markdown",
   "id": "83987ac3-9e23-4c26-96f0-32d0ac29d533",
   "metadata": {},
   "source": [
    "Next, we display the distribution of global rank among the most recently purchased products by customers that were not included in the recommendations."
   ]
  },
  {
   "cell_type": "code",
   "execution_count": 247,
   "id": "a95aa8ac-41c8-4929-9a98-d3b6fda48b2b",
   "metadata": {
    "tags": []
   },
   "outputs": [
    {
     "data": {
      "image/png": "[encoded data removed]",
      "text/plain": [
       "<Figure size 600x400 with 1 Axes>"
      ]
     },
     "metadata": {},
     "output_type": "display_data"
    }
   ],
   "source": [
    "ax = total_missed_last_products['total_rank'].plot(\n",
    "    kind='hist', bins=1000,\n",
    "    title='Distribution of global rank among\\n'\n",
    "    'last purchased products that were not included in recommendations',\n",
    "    figsize=(6, 4), grid=True, fontsize=10, legend=False, alpha=0.75)\n",
    "ax.set_xlabel('Rank')\n",
    "ax.set_ylabel('Number of products')\n",
    "_ = ax.set_xlim(0, 1000)"
   ]
  },
  {
   "cell_type": "code",
   "execution_count": 251,
   "id": "58f2c7ec-476f-45ff-8189-3cc3cd1706bc",
   "metadata": {},
   "outputs": [
    {
     "data": {
      "text/html": [
       "<div>\n",
       "<style scoped>\n",
       "    .dataframe tbody tr th:only-of-type {\n",
       "        vertical-align: middle;\n",
       "    }\n",
       "\n",
       "    .dataframe tbody tr th {\n",
       "        vertical-align: top;\n",
       "    }\n",
       "\n",
       "    .dataframe thead th {\n",
       "        text-align: right;\n",
       "    }\n",
       "</style>\n",
       "<table border=\"1\" class=\"dataframe\">\n",
       "  <thead>\n",
       "    <tr style=\"text-align: right;\">\n",
       "      <th></th>\n",
       "      <th>range</th>\n",
       "      <th>number_of_products</th>\n",
       "      <th>total_rank</th>\n",
       "    </tr>\n",
       "  </thead>\n",
       "  <tbody>\n",
       "    <tr>\n",
       "      <th>0</th>\n",
       "      <td>[1, 51)</td>\n",
       "      <td>101462</td>\n",
       "      <td>26.0</td>\n",
       "    </tr>\n",
       "    <tr>\n",
       "      <th>1</th>\n",
       "      <td>[51, 101)</td>\n",
       "      <td>45644</td>\n",
       "      <td>76.0</td>\n",
       "    </tr>\n",
       "    <tr>\n",
       "      <th>2</th>\n",
       "      <td>[101, 151)</td>\n",
       "      <td>31639</td>\n",
       "      <td>126.0</td>\n",
       "    </tr>\n",
       "    <tr>\n",
       "      <th>3</th>\n",
       "      <td>[151, 201)</td>\n",
       "      <td>24519</td>\n",
       "      <td>176.0</td>\n",
       "    </tr>\n",
       "    <tr>\n",
       "      <th>4</th>\n",
       "      <td>[201, 251)</td>\n",
       "      <td>19594</td>\n",
       "      <td>226.0</td>\n",
       "    </tr>\n",
       "    <tr>\n",
       "      <th>...</th>\n",
       "      <td>...</td>\n",
       "      <td>...</td>\n",
       "      <td>...</td>\n",
       "    </tr>\n",
       "    <tr>\n",
       "      <th>984</th>\n",
       "      <td>[49051, 49101)</td>\n",
       "      <td>4</td>\n",
       "      <td>49076.0</td>\n",
       "    </tr>\n",
       "    <tr>\n",
       "      <th>985</th>\n",
       "      <td>[45301, 45351)</td>\n",
       "      <td>4</td>\n",
       "      <td>45326.0</td>\n",
       "    </tr>\n",
       "    <tr>\n",
       "      <th>986</th>\n",
       "      <td>[47801, 47851)</td>\n",
       "      <td>4</td>\n",
       "      <td>47826.0</td>\n",
       "    </tr>\n",
       "    <tr>\n",
       "      <th>987</th>\n",
       "      <td>[49101, 49151)</td>\n",
       "      <td>3</td>\n",
       "      <td>49126.0</td>\n",
       "    </tr>\n",
       "    <tr>\n",
       "      <th>988</th>\n",
       "      <td>[49401, 49451)</td>\n",
       "      <td>2</td>\n",
       "      <td>49426.0</td>\n",
       "    </tr>\n",
       "  </tbody>\n",
       "</table>\n",
       "<p>989 rows × 3 columns</p>\n",
       "</div>"
      ],
      "text/plain": [
       "              range  number_of_products  total_rank\n",
       "0           [1, 51)              101462        26.0\n",
       "1         [51, 101)               45644        76.0\n",
       "2        [101, 151)               31639       126.0\n",
       "3        [151, 201)               24519       176.0\n",
       "4        [201, 251)               19594       226.0\n",
       "..              ...                 ...         ...\n",
       "984  [49051, 49101)                   4     49076.0\n",
       "985  [45301, 45351)                   4     45326.0\n",
       "986  [47801, 47851)                   4     47826.0\n",
       "987  [49101, 49151)                   3     49126.0\n",
       "988  [49401, 49451)                   2     49426.0\n",
       "\n",
       "[989 rows x 3 columns]"
      ]
     },
     "execution_count": 251,
     "metadata": {},
     "output_type": "execute_result"
    }
   ],
   "source": [
    "bins = [\n",
    "    pd.Interval(left=left, right=left+50, closed='left') \n",
    "    for left in range(int(np.ceil(total_missed_last_products['total_rank'].min())), int(np.ceil(total_missed_last_products['total_rank'].max())), 50)  \n",
    "]\n",
    "plot_data = total_missed_last_products['total_rank'].value_counts(bins=bins).reset_index(name='number_of_products')\n",
    "plot_data.rename(columns={'index': 'range'}, inplace=True)\n",
    "plot_data['total_rank'] = plot_data['range'].map(lambda interval: (interval.left + interval.right) / 2)\n",
    "plot_data"
   ]
  },
  {
   "cell_type": "code",
   "execution_count": 252,
   "id": "c8cc3afc-17d7-4c9b-b816-e314225a5f39",
   "metadata": {},
   "outputs": [
    {
     "data": {
      "text/plain": [
       "count    765685.000000\n",
       "mean       3676.354599\n",
       "std        6399.451998\n",
       "min           1.000000\n",
       "25%         176.000000\n",
       "50%        1042.000000\n",
       "75%        4104.000000\n",
       "max       49412.000000\n",
       "Name: total_rank, dtype: float64"
      ]
     },
     "execution_count": 252,
     "metadata": {},
     "output_type": "execute_result"
    }
   ],
   "source": [
    "total_missed_last_products['total_rank'].describe()"
   ]
  },
  {
   "cell_type": "code",
   "execution_count": 253,
   "id": "96e119f1-d031-40d7-a662-0b2a60113b9f",
   "metadata": {},
   "outputs": [],
   "source": [
    "save_data(plot_data, 'plot_missed_hist_data.dmp')"
   ]
  },
  {
   "cell_type": "markdown",
   "id": "c20b7f45-e19e-48e9-a643-684d00bddc31",
   "metadata": {},
   "source": [
    "The histogram shows that products with a high global rating are most often mistakenly not included in the recommendations. Let's try to take this circumstance into account and adjust the model's operation. To do this, we will increase the ratings of popular products (with high global ratings). Let's call this rating adjustment \"popularity filtering\". As before, we will build it on the basis of exponential filtering. As a result, the product rating will be calculated using the following formula:\n",
    "$$r^*_{u,i}=r_{u,i} e^{r^g_i a_p},$$\n",
    "where&nbsp;$r_{u,i}$ is the rating of product number $i$ for customer number $u$;  \n",
    "&nbsp;&nbsp;&nbsp;&nbsp;&nbsp;&nbsp;&nbsp;&nbsp;&nbsp;&nbsp;&nbsp;$r^g_i$ is the global rating of product number $i$;  \n",
    "&nbsp;&nbsp;&nbsp;&nbsp;&nbsp;&nbsp;&nbsp;&nbsp;&nbsp;&nbsp;&nbsp;$a_p$ - rate of filtering products by popularity."
   ]
  },
  {
   "cell_type": "markdown",
   "id": "36672467-9a3e-43c2-9230-c41769f7f3b2",
   "metadata": {},
   "source": [
    "To check the effect of filtering by popularity and the impact of the value of the rate $a_p$ on the accuracy of predictions, we will plot a graph of the dependence of the value of the metric $MAP@10$ on the value of this rate."
   ]
  },
  {
   "cell_type": "code",
   "execution_count": 198,
   "id": "b09a681d-8c73-48d1-839f-02433e699ad8",
   "metadata": {
    "tags": []
   },
   "outputs": [
    {
     "name": "stdout",
     "output_type": "stream",
     "text": [
      "\n",
      "IPython CPU timings (estimated):\n",
      "  User   :       0.05 s.\n",
      "  System :       0.00 s.\n",
      "Wall time:     162.97 s.\n"
     ]
    },
    {
     "data": {
      "text/plain": [
       "<Figure size 640x480 with 0 Axes>"
      ]
     },
     "metadata": {},
     "output_type": "display_data"
    }
   ],
   "source": [
    "start, stop, num = 0.0, 1.0, 21\n",
    "map10_total = multiprocessing(start=start, stop=stop, num=num, func='get_map10_by_total_rates', \n",
    "                              days_rate=days_rate, cart_rate=cart_rate)"
   ]
  },
  {
   "cell_type": "code",
   "execution_count": 201,
   "id": "01069bbc-fc46-40ba-aeaf-5d99aaba1109",
   "metadata": {
    "tags": []
   },
   "outputs": [],
   "source": [
    "map10_total_approximated, total_rate = f.approximate_precision_by_rate(map10_total.index, map10_total, 3)\n",
    "total_weights = f.get_weights(prior_transactions, days_rate=days_rate, cart_rate=cart_rate)\n",
    "total_ratings = f.get_ratings(total_weights, total_rate=total_rate)\n",
    "total_prediction = f.get_prediction(total_ratings)\n",
    "total_map10 = f.get_prediction_precision(last_products, total_prediction)"
   ]
  },
  {
   "cell_type": "code",
   "execution_count": 202,
   "id": "84296256-8fdc-4053-b5fd-c8c78b376c43",
   "metadata": {},
   "outputs": [],
   "source": [
    "# Saving data\n",
    "save_data(total_map10, 'total_map10.dmp')\n",
    "save_data(total_rate, 'total_rate.dmp')"
   ]
  },
  {
   "cell_type": "code",
   "execution_count": 203,
   "id": "8a99f2b4-47cd-478c-b383-3738f1968828",
   "metadata": {},
   "outputs": [
    {
     "data": {
      "text/html": [
       "<div>\n",
       "<style scoped>\n",
       "    .dataframe tbody tr th:only-of-type {\n",
       "        vertical-align: middle;\n",
       "    }\n",
       "\n",
       "    .dataframe tbody tr th {\n",
       "        vertical-align: top;\n",
       "    }\n",
       "\n",
       "    .dataframe thead th {\n",
       "        text-align: right;\n",
       "    }\n",
       "</style>\n",
       "<table border=\"1\" class=\"dataframe\">\n",
       "  <thead>\n",
       "    <tr style=\"text-align: right;\">\n",
       "      <th></th>\n",
       "      <th>total_rate</th>\n",
       "      <th>precision</th>\n",
       "      <th>type</th>\n",
       "    </tr>\n",
       "  </thead>\n",
       "  <tbody>\n",
       "    <tr>\n",
       "      <th>0</th>\n",
       "      <td>0.00</td>\n",
       "      <td>0.326484</td>\n",
       "      <td>actual</td>\n",
       "    </tr>\n",
       "    <tr>\n",
       "      <th>1</th>\n",
       "      <td>0.05</td>\n",
       "      <td>0.326765</td>\n",
       "      <td>actual</td>\n",
       "    </tr>\n",
       "    <tr>\n",
       "      <th>2</th>\n",
       "      <td>0.10</td>\n",
       "      <td>0.327030</td>\n",
       "      <td>actual</td>\n",
       "    </tr>\n",
       "    <tr>\n",
       "      <th>3</th>\n",
       "      <td>0.15</td>\n",
       "      <td>0.327191</td>\n",
       "      <td>actual</td>\n",
       "    </tr>\n",
       "    <tr>\n",
       "      <th>4</th>\n",
       "      <td>0.20</td>\n",
       "      <td>0.327355</td>\n",
       "      <td>actual</td>\n",
       "    </tr>\n",
       "    <tr>\n",
       "      <th>5</th>\n",
       "      <td>0.25</td>\n",
       "      <td>0.327426</td>\n",
       "      <td>actual</td>\n",
       "    </tr>\n",
       "    <tr>\n",
       "      <th>6</th>\n",
       "      <td>0.30</td>\n",
       "      <td>0.327486</td>\n",
       "      <td>actual</td>\n",
       "    </tr>\n",
       "    <tr>\n",
       "      <th>7</th>\n",
       "      <td>0.35</td>\n",
       "      <td>0.327509</td>\n",
       "      <td>actual</td>\n",
       "    </tr>\n",
       "    <tr>\n",
       "      <th>8</th>\n",
       "      <td>0.40</td>\n",
       "      <td>0.327469</td>\n",
       "      <td>actual</td>\n",
       "    </tr>\n",
       "    <tr>\n",
       "      <th>9</th>\n",
       "      <td>0.45</td>\n",
       "      <td>0.327406</td>\n",
       "      <td>actual</td>\n",
       "    </tr>\n",
       "    <tr>\n",
       "      <th>10</th>\n",
       "      <td>0.50</td>\n",
       "      <td>0.327374</td>\n",
       "      <td>actual</td>\n",
       "    </tr>\n",
       "    <tr>\n",
       "      <th>11</th>\n",
       "      <td>0.55</td>\n",
       "      <td>0.327257</td>\n",
       "      <td>actual</td>\n",
       "    </tr>\n",
       "    <tr>\n",
       "      <th>12</th>\n",
       "      <td>0.60</td>\n",
       "      <td>0.327202</td>\n",
       "      <td>actual</td>\n",
       "    </tr>\n",
       "    <tr>\n",
       "      <th>13</th>\n",
       "      <td>0.65</td>\n",
       "      <td>0.327028</td>\n",
       "      <td>actual</td>\n",
       "    </tr>\n",
       "    <tr>\n",
       "      <th>14</th>\n",
       "      <td>0.70</td>\n",
       "      <td>0.326882</td>\n",
       "      <td>actual</td>\n",
       "    </tr>\n",
       "    <tr>\n",
       "      <th>15</th>\n",
       "      <td>0.75</td>\n",
       "      <td>0.326679</td>\n",
       "      <td>actual</td>\n",
       "    </tr>\n",
       "    <tr>\n",
       "      <th>16</th>\n",
       "      <td>0.80</td>\n",
       "      <td>0.326464</td>\n",
       "      <td>actual</td>\n",
       "    </tr>\n",
       "    <tr>\n",
       "      <th>17</th>\n",
       "      <td>0.85</td>\n",
       "      <td>0.326224</td>\n",
       "      <td>actual</td>\n",
       "    </tr>\n",
       "    <tr>\n",
       "      <th>18</th>\n",
       "      <td>0.90</td>\n",
       "      <td>0.325993</td>\n",
       "      <td>actual</td>\n",
       "    </tr>\n",
       "    <tr>\n",
       "      <th>19</th>\n",
       "      <td>0.95</td>\n",
       "      <td>0.325729</td>\n",
       "      <td>actual</td>\n",
       "    </tr>\n",
       "    <tr>\n",
       "      <th>20</th>\n",
       "      <td>1.00</td>\n",
       "      <td>0.325427</td>\n",
       "      <td>actual</td>\n",
       "    </tr>\n",
       "    <tr>\n",
       "      <th>21</th>\n",
       "      <td>0.00</td>\n",
       "      <td>0.326514</td>\n",
       "      <td>approximated</td>\n",
       "    </tr>\n",
       "    <tr>\n",
       "      <th>22</th>\n",
       "      <td>0.05</td>\n",
       "      <td>0.326779</td>\n",
       "      <td>approximated</td>\n",
       "    </tr>\n",
       "    <tr>\n",
       "      <th>23</th>\n",
       "      <td>0.10</td>\n",
       "      <td>0.326999</td>\n",
       "      <td>approximated</td>\n",
       "    </tr>\n",
       "    <tr>\n",
       "      <th>24</th>\n",
       "      <td>0.15</td>\n",
       "      <td>0.327178</td>\n",
       "      <td>approximated</td>\n",
       "    </tr>\n",
       "    <tr>\n",
       "      <th>25</th>\n",
       "      <td>0.20</td>\n",
       "      <td>0.327315</td>\n",
       "      <td>approximated</td>\n",
       "    </tr>\n",
       "    <tr>\n",
       "      <th>26</th>\n",
       "      <td>0.25</td>\n",
       "      <td>0.327415</td>\n",
       "      <td>approximated</td>\n",
       "    </tr>\n",
       "    <tr>\n",
       "      <th>27</th>\n",
       "      <td>0.30</td>\n",
       "      <td>0.327477</td>\n",
       "      <td>approximated</td>\n",
       "    </tr>\n",
       "    <tr>\n",
       "      <th>28</th>\n",
       "      <td>0.35</td>\n",
       "      <td>0.327504</td>\n",
       "      <td>approximated</td>\n",
       "    </tr>\n",
       "    <tr>\n",
       "      <th>29</th>\n",
       "      <td>0.40</td>\n",
       "      <td>0.327497</td>\n",
       "      <td>approximated</td>\n",
       "    </tr>\n",
       "    <tr>\n",
       "      <th>30</th>\n",
       "      <td>0.45</td>\n",
       "      <td>0.327459</td>\n",
       "      <td>approximated</td>\n",
       "    </tr>\n",
       "    <tr>\n",
       "      <th>31</th>\n",
       "      <td>0.50</td>\n",
       "      <td>0.327391</td>\n",
       "      <td>approximated</td>\n",
       "    </tr>\n",
       "    <tr>\n",
       "      <th>32</th>\n",
       "      <td>0.55</td>\n",
       "      <td>0.327295</td>\n",
       "      <td>approximated</td>\n",
       "    </tr>\n",
       "    <tr>\n",
       "      <th>33</th>\n",
       "      <td>0.60</td>\n",
       "      <td>0.327173</td>\n",
       "      <td>approximated</td>\n",
       "    </tr>\n",
       "    <tr>\n",
       "      <th>34</th>\n",
       "      <td>0.65</td>\n",
       "      <td>0.327026</td>\n",
       "      <td>approximated</td>\n",
       "    </tr>\n",
       "    <tr>\n",
       "      <th>35</th>\n",
       "      <td>0.70</td>\n",
       "      <td>0.326855</td>\n",
       "      <td>approximated</td>\n",
       "    </tr>\n",
       "    <tr>\n",
       "      <th>36</th>\n",
       "      <td>0.75</td>\n",
       "      <td>0.326664</td>\n",
       "      <td>approximated</td>\n",
       "    </tr>\n",
       "    <tr>\n",
       "      <th>37</th>\n",
       "      <td>0.80</td>\n",
       "      <td>0.326454</td>\n",
       "      <td>approximated</td>\n",
       "    </tr>\n",
       "    <tr>\n",
       "      <th>38</th>\n",
       "      <td>0.85</td>\n",
       "      <td>0.326225</td>\n",
       "      <td>approximated</td>\n",
       "    </tr>\n",
       "    <tr>\n",
       "      <th>39</th>\n",
       "      <td>0.90</td>\n",
       "      <td>0.325981</td>\n",
       "      <td>approximated</td>\n",
       "    </tr>\n",
       "    <tr>\n",
       "      <th>40</th>\n",
       "      <td>0.95</td>\n",
       "      <td>0.325723</td>\n",
       "      <td>approximated</td>\n",
       "    </tr>\n",
       "    <tr>\n",
       "      <th>41</th>\n",
       "      <td>1.00</td>\n",
       "      <td>0.325453</td>\n",
       "      <td>approximated</td>\n",
       "    </tr>\n",
       "  </tbody>\n",
       "</table>\n",
       "</div>"
      ],
      "text/plain": [
       "    total_rate  precision          type\n",
       "0         0.00   0.326484        actual\n",
       "1         0.05   0.326765        actual\n",
       "2         0.10   0.327030        actual\n",
       "3         0.15   0.327191        actual\n",
       "4         0.20   0.327355        actual\n",
       "5         0.25   0.327426        actual\n",
       "6         0.30   0.327486        actual\n",
       "7         0.35   0.327509        actual\n",
       "8         0.40   0.327469        actual\n",
       "9         0.45   0.327406        actual\n",
       "10        0.50   0.327374        actual\n",
       "11        0.55   0.327257        actual\n",
       "12        0.60   0.327202        actual\n",
       "13        0.65   0.327028        actual\n",
       "14        0.70   0.326882        actual\n",
       "15        0.75   0.326679        actual\n",
       "16        0.80   0.326464        actual\n",
       "17        0.85   0.326224        actual\n",
       "18        0.90   0.325993        actual\n",
       "19        0.95   0.325729        actual\n",
       "20        1.00   0.325427        actual\n",
       "21        0.00   0.326514  approximated\n",
       "22        0.05   0.326779  approximated\n",
       "23        0.10   0.326999  approximated\n",
       "24        0.15   0.327178  approximated\n",
       "25        0.20   0.327315  approximated\n",
       "26        0.25   0.327415  approximated\n",
       "27        0.30   0.327477  approximated\n",
       "28        0.35   0.327504  approximated\n",
       "29        0.40   0.327497  approximated\n",
       "30        0.45   0.327459  approximated\n",
       "31        0.50   0.327391  approximated\n",
       "32        0.55   0.327295  approximated\n",
       "33        0.60   0.327173  approximated\n",
       "34        0.65   0.327026  approximated\n",
       "35        0.70   0.326855  approximated\n",
       "36        0.75   0.326664  approximated\n",
       "37        0.80   0.326454  approximated\n",
       "38        0.85   0.326225  approximated\n",
       "39        0.90   0.325981  approximated\n",
       "40        0.95   0.325723  approximated\n",
       "41        1.00   0.325453  approximated"
      ]
     },
     "execution_count": 203,
     "metadata": {},
     "output_type": "execute_result"
    }
   ],
   "source": [
    "plot_data = map10_total.reset_index()\n",
    "plot_data['type'] = 'actual'\n",
    "index = pd.RangeIndex(map10_total.shape[0], map10_cart.shape[0] + map10_total_approximated.shape[0])\n",
    "for i in index:\n",
    "    plot_data.loc[i, 'type'] = 'approximated'\n",
    "plot_data.loc[index, 'total_rate'] = map10_total.index\n",
    "plot_data.loc[index, 'precision'] = map10_total_approximated\n",
    "# plot_data.loc[index.stop] = [days_rate, days_map10, 'peak']\n",
    "plot_data"
   ]
  },
  {
   "cell_type": "code",
   "execution_count": 204,
   "id": "3a7770bb-40c2-4f95-b6c0-bb0e986d1a42",
   "metadata": {},
   "outputs": [],
   "source": [
    "save_data(plot_data, 'plot_total_data.dmp')"
   ]
  },
  {
   "cell_type": "code",
   "execution_count": 205,
   "id": "b4b7cb12-2293-4737-8fb3-7638a29e7537",
   "metadata": {},
   "outputs": [
    {
     "data": {
      "text/html": [
       "<div>\n",
       "<style scoped>\n",
       "    .dataframe tbody tr th:only-of-type {\n",
       "        vertical-align: middle;\n",
       "    }\n",
       "\n",
       "    .dataframe tbody tr th {\n",
       "        vertical-align: top;\n",
       "    }\n",
       "\n",
       "    .dataframe thead th {\n",
       "        text-align: right;\n",
       "    }\n",
       "</style>\n",
       "<table border=\"1\" class=\"dataframe\">\n",
       "  <thead>\n",
       "    <tr style=\"text-align: right;\">\n",
       "      <th></th>\n",
       "      <th>range</th>\n",
       "      <th>number_of_products</th>\n",
       "      <th>rating</th>\n",
       "    </tr>\n",
       "  </thead>\n",
       "  <tbody>\n",
       "    <tr>\n",
       "      <th>0</th>\n",
       "      <td>(0, 1]</td>\n",
       "      <td>7850211</td>\n",
       "      <td>0.5</td>\n",
       "    </tr>\n",
       "    <tr>\n",
       "      <th>1</th>\n",
       "      <td>(1, 2]</td>\n",
       "      <td>804282</td>\n",
       "      <td>1.5</td>\n",
       "    </tr>\n",
       "    <tr>\n",
       "      <th>2</th>\n",
       "      <td>(2, 3]</td>\n",
       "      <td>256302</td>\n",
       "      <td>2.5</td>\n",
       "    </tr>\n",
       "    <tr>\n",
       "      <th>3</th>\n",
       "      <td>(3, 4]</td>\n",
       "      <td>107132</td>\n",
       "      <td>3.5</td>\n",
       "    </tr>\n",
       "    <tr>\n",
       "      <th>4</th>\n",
       "      <td>(4, 5]</td>\n",
       "      <td>52996</td>\n",
       "      <td>4.5</td>\n",
       "    </tr>\n",
       "    <tr>\n",
       "      <th>5</th>\n",
       "      <td>(5, 6]</td>\n",
       "      <td>27612</td>\n",
       "      <td>5.5</td>\n",
       "    </tr>\n",
       "    <tr>\n",
       "      <th>6</th>\n",
       "      <td>(6, 7]</td>\n",
       "      <td>14991</td>\n",
       "      <td>6.5</td>\n",
       "    </tr>\n",
       "    <tr>\n",
       "      <th>7</th>\n",
       "      <td>(7, 8]</td>\n",
       "      <td>7626</td>\n",
       "      <td>7.5</td>\n",
       "    </tr>\n",
       "    <tr>\n",
       "      <th>8</th>\n",
       "      <td>(8, 9]</td>\n",
       "      <td>4137</td>\n",
       "      <td>8.5</td>\n",
       "    </tr>\n",
       "    <tr>\n",
       "      <th>9</th>\n",
       "      <td>(9, 10]</td>\n",
       "      <td>2504</td>\n",
       "      <td>9.5</td>\n",
       "    </tr>\n",
       "    <tr>\n",
       "      <th>10</th>\n",
       "      <td>(10, 11]</td>\n",
       "      <td>1514</td>\n",
       "      <td>10.5</td>\n",
       "    </tr>\n",
       "    <tr>\n",
       "      <th>11</th>\n",
       "      <td>(11, 12]</td>\n",
       "      <td>948</td>\n",
       "      <td>11.5</td>\n",
       "    </tr>\n",
       "    <tr>\n",
       "      <th>12</th>\n",
       "      <td>(12, 13]</td>\n",
       "      <td>666</td>\n",
       "      <td>12.5</td>\n",
       "    </tr>\n",
       "    <tr>\n",
       "      <th>13</th>\n",
       "      <td>(13, 14]</td>\n",
       "      <td>420</td>\n",
       "      <td>13.5</td>\n",
       "    </tr>\n",
       "    <tr>\n",
       "      <th>14</th>\n",
       "      <td>(14, 15]</td>\n",
       "      <td>299</td>\n",
       "      <td>14.5</td>\n",
       "    </tr>\n",
       "    <tr>\n",
       "      <th>15</th>\n",
       "      <td>(15, 16]</td>\n",
       "      <td>203</td>\n",
       "      <td>15.5</td>\n",
       "    </tr>\n",
       "    <tr>\n",
       "      <th>16</th>\n",
       "      <td>(16, 17]</td>\n",
       "      <td>163</td>\n",
       "      <td>16.5</td>\n",
       "    </tr>\n",
       "    <tr>\n",
       "      <th>17</th>\n",
       "      <td>(17, 18]</td>\n",
       "      <td>119</td>\n",
       "      <td>17.5</td>\n",
       "    </tr>\n",
       "    <tr>\n",
       "      <th>18</th>\n",
       "      <td>(18, 19]</td>\n",
       "      <td>81</td>\n",
       "      <td>18.5</td>\n",
       "    </tr>\n",
       "    <tr>\n",
       "      <th>19</th>\n",
       "      <td>(19, 20]</td>\n",
       "      <td>72</td>\n",
       "      <td>19.5</td>\n",
       "    </tr>\n",
       "    <tr>\n",
       "      <th>20</th>\n",
       "      <td>(20, 21]</td>\n",
       "      <td>37</td>\n",
       "      <td>20.5</td>\n",
       "    </tr>\n",
       "    <tr>\n",
       "      <th>21</th>\n",
       "      <td>(21, 22]</td>\n",
       "      <td>35</td>\n",
       "      <td>21.5</td>\n",
       "    </tr>\n",
       "    <tr>\n",
       "      <th>22</th>\n",
       "      <td>(22, 23]</td>\n",
       "      <td>29</td>\n",
       "      <td>22.5</td>\n",
       "    </tr>\n",
       "    <tr>\n",
       "      <th>23</th>\n",
       "      <td>(25, 26]</td>\n",
       "      <td>21</td>\n",
       "      <td>25.5</td>\n",
       "    </tr>\n",
       "    <tr>\n",
       "      <th>24</th>\n",
       "      <td>(26, 27]</td>\n",
       "      <td>19</td>\n",
       "      <td>26.5</td>\n",
       "    </tr>\n",
       "    <tr>\n",
       "      <th>25</th>\n",
       "      <td>(23, 24]</td>\n",
       "      <td>15</td>\n",
       "      <td>23.5</td>\n",
       "    </tr>\n",
       "    <tr>\n",
       "      <th>26</th>\n",
       "      <td>(24, 25]</td>\n",
       "      <td>13</td>\n",
       "      <td>24.5</td>\n",
       "    </tr>\n",
       "    <tr>\n",
       "      <th>27</th>\n",
       "      <td>(28, 29]</td>\n",
       "      <td>12</td>\n",
       "      <td>28.5</td>\n",
       "    </tr>\n",
       "    <tr>\n",
       "      <th>28</th>\n",
       "      <td>(27, 28]</td>\n",
       "      <td>12</td>\n",
       "      <td>27.5</td>\n",
       "    </tr>\n",
       "    <tr>\n",
       "      <th>29</th>\n",
       "      <td>(29, 30]</td>\n",
       "      <td>8</td>\n",
       "      <td>29.5</td>\n",
       "    </tr>\n",
       "    <tr>\n",
       "      <th>30</th>\n",
       "      <td>(30, 31]</td>\n",
       "      <td>6</td>\n",
       "      <td>30.5</td>\n",
       "    </tr>\n",
       "    <tr>\n",
       "      <th>31</th>\n",
       "      <td>(34, 35]</td>\n",
       "      <td>5</td>\n",
       "      <td>34.5</td>\n",
       "    </tr>\n",
       "    <tr>\n",
       "      <th>32</th>\n",
       "      <td>(31, 32]</td>\n",
       "      <td>4</td>\n",
       "      <td>31.5</td>\n",
       "    </tr>\n",
       "    <tr>\n",
       "      <th>33</th>\n",
       "      <td>(39, 40]</td>\n",
       "      <td>3</td>\n",
       "      <td>39.5</td>\n",
       "    </tr>\n",
       "    <tr>\n",
       "      <th>34</th>\n",
       "      <td>(33, 34]</td>\n",
       "      <td>3</td>\n",
       "      <td>33.5</td>\n",
       "    </tr>\n",
       "    <tr>\n",
       "      <th>35</th>\n",
       "      <td>(35, 36]</td>\n",
       "      <td>3</td>\n",
       "      <td>35.5</td>\n",
       "    </tr>\n",
       "    <tr>\n",
       "      <th>36</th>\n",
       "      <td>(32, 33]</td>\n",
       "      <td>2</td>\n",
       "      <td>32.5</td>\n",
       "    </tr>\n",
       "    <tr>\n",
       "      <th>37</th>\n",
       "      <td>(40, 41]</td>\n",
       "      <td>1</td>\n",
       "      <td>40.5</td>\n",
       "    </tr>\n",
       "    <tr>\n",
       "      <th>38</th>\n",
       "      <td>(46, 47]</td>\n",
       "      <td>1</td>\n",
       "      <td>46.5</td>\n",
       "    </tr>\n",
       "    <tr>\n",
       "      <th>39</th>\n",
       "      <td>(38, 39]</td>\n",
       "      <td>0</td>\n",
       "      <td>38.5</td>\n",
       "    </tr>\n",
       "    <tr>\n",
       "      <th>40</th>\n",
       "      <td>(37, 38]</td>\n",
       "      <td>0</td>\n",
       "      <td>37.5</td>\n",
       "    </tr>\n",
       "    <tr>\n",
       "      <th>41</th>\n",
       "      <td>(41, 42]</td>\n",
       "      <td>0</td>\n",
       "      <td>41.5</td>\n",
       "    </tr>\n",
       "    <tr>\n",
       "      <th>42</th>\n",
       "      <td>(42, 43]</td>\n",
       "      <td>0</td>\n",
       "      <td>42.5</td>\n",
       "    </tr>\n",
       "    <tr>\n",
       "      <th>43</th>\n",
       "      <td>(43, 44]</td>\n",
       "      <td>0</td>\n",
       "      <td>43.5</td>\n",
       "    </tr>\n",
       "    <tr>\n",
       "      <th>44</th>\n",
       "      <td>(44, 45]</td>\n",
       "      <td>0</td>\n",
       "      <td>44.5</td>\n",
       "    </tr>\n",
       "    <tr>\n",
       "      <th>45</th>\n",
       "      <td>(45, 46]</td>\n",
       "      <td>0</td>\n",
       "      <td>45.5</td>\n",
       "    </tr>\n",
       "    <tr>\n",
       "      <th>46</th>\n",
       "      <td>(36, 37]</td>\n",
       "      <td>0</td>\n",
       "      <td>36.5</td>\n",
       "    </tr>\n",
       "  </tbody>\n",
       "</table>\n",
       "</div>"
      ],
      "text/plain": [
       "       range  number_of_products  rating\n",
       "0     (0, 1]             7850211     0.5\n",
       "1     (1, 2]              804282     1.5\n",
       "2     (2, 3]              256302     2.5\n",
       "3     (3, 4]              107132     3.5\n",
       "4     (4, 5]               52996     4.5\n",
       "5     (5, 6]               27612     5.5\n",
       "6     (6, 7]               14991     6.5\n",
       "7     (7, 8]                7626     7.5\n",
       "8     (8, 9]                4137     8.5\n",
       "9    (9, 10]                2504     9.5\n",
       "10  (10, 11]                1514    10.5\n",
       "11  (11, 12]                 948    11.5\n",
       "12  (12, 13]                 666    12.5\n",
       "13  (13, 14]                 420    13.5\n",
       "14  (14, 15]                 299    14.5\n",
       "15  (15, 16]                 203    15.5\n",
       "16  (16, 17]                 163    16.5\n",
       "17  (17, 18]                 119    17.5\n",
       "18  (18, 19]                  81    18.5\n",
       "19  (19, 20]                  72    19.5\n",
       "20  (20, 21]                  37    20.5\n",
       "21  (21, 22]                  35    21.5\n",
       "22  (22, 23]                  29    22.5\n",
       "23  (25, 26]                  21    25.5\n",
       "24  (26, 27]                  19    26.5\n",
       "25  (23, 24]                  15    23.5\n",
       "26  (24, 25]                  13    24.5\n",
       "27  (28, 29]                  12    28.5\n",
       "28  (27, 28]                  12    27.5\n",
       "29  (29, 30]                   8    29.5\n",
       "30  (30, 31]                   6    30.5\n",
       "31  (34, 35]                   5    34.5\n",
       "32  (31, 32]                   4    31.5\n",
       "33  (39, 40]                   3    39.5\n",
       "34  (33, 34]                   3    33.5\n",
       "35  (35, 36]                   3    35.5\n",
       "36  (32, 33]                   2    32.5\n",
       "37  (40, 41]                   1    40.5\n",
       "38  (46, 47]                   1    46.5\n",
       "39  (38, 39]                   0    38.5\n",
       "40  (37, 38]                   0    37.5\n",
       "41  (41, 42]                   0    41.5\n",
       "42  (42, 43]                   0    42.5\n",
       "43  (43, 44]                   0    43.5\n",
       "44  (44, 45]                   0    44.5\n",
       "45  (45, 46]                   0    45.5\n",
       "46  (36, 37]                   0    36.5"
      ]
     },
     "execution_count": 205,
     "metadata": {},
     "output_type": "execute_result"
    }
   ],
   "source": [
    "bins = [\n",
    "    pd.Interval(left=left, right=left+1) \n",
    "    for left in range(int(np.floor(total_ratings['rating'].min())), int(np.ceil(total_ratings['rating'].max())))  \n",
    "]\n",
    "plot_data = total_ratings['rating'].value_counts(bins=bins).reset_index(name='number_of_products')\n",
    "plot_data.rename(columns={'index': 'range'}, inplace=True)\n",
    "plot_data['rating'] = plot_data['range'].map(lambda interval: (interval.left + interval.right) / 2)\n",
    "plot_data"
   ]
  },
  {
   "cell_type": "code",
   "execution_count": 206,
   "id": "9c16150f-8197-4e4c-b041-0c7238dd6415",
   "metadata": {},
   "outputs": [],
   "source": [
    "save_data(plot_data, 'plot_total_hist_data.dmp')"
   ]
  },
  {
   "cell_type": "code",
   "execution_count": 217,
   "id": "e463fac3-bb4e-4ced-91c8-600896453ea5",
   "metadata": {
    "tags": []
   },
   "outputs": [
    {
     "data": {
      "image/png": "[encoded data removed]",
      "text/plain": [
       "<Figure size 600x400 with 1 Axes>"
      ]
     },
     "metadata": {},
     "output_type": "display_data"
    }
   ],
   "source": [
    "ax = map10_total.plot(\n",
    "    title='Dependence of the accuracy of predictions of a set of products in the next purchase\\n'\n",
    "    'on the filtering rate by product popularity',\n",
    "    xlabel='$a_p$',\n",
    "    figsize=(6, 4), grid=True, fontsize=10, legend=False, alpha=0.75)\n",
    "ax.plot(map10_total.index.values, map10_total_pred, linestyle='--', color='#ff7f0e', alpha=0.75)\n",
    "ax.scatter(total_rate, total_map10, color='#d62728', linewidth=1, alpha=0.75)\n",
    "ax.axvline(total_rate, color='#d62728', linestyle='--', linewidth=1, alpha=0.75)\n",
    "ax.axhline(total_map10, color='#d62728', linestyle='--', linewidth=1, alpha=0.75)\n",
    "_ = ax.legend(['Actual values', 'Approximation', 'Peak'])"
   ]
  },
  {
   "cell_type": "markdown",
   "id": "35b3702f-6c1d-4fab-b314-e25edd7c8055",
   "metadata": {},
   "source": [
    "The graph shows that the value of the rate $a_p$ affects the quality of filtration. Thus, when the values of these rates are close to zero (i.e., with weak filtration), as it should be, the value of the $MAP@10$ metric is close to the value obtained by filtering by the time of purchase and the ordinal number of adding the product to the cart. Then, as the rate grows, a slight increase in the quality of filtration is observed, which reaches its **peak** at a rate value in the region of **0.3...0.4**. With continued growth of the rate value, the quality of filtration begins to **rapidly decrease**. And when the rate values **are greater than 0.8**, the influence of filtration becomes **negative** (the $MAP@10$ metric falls below the value obtained by filtering by the time and ordinal number of adding the product to the cart)."
   ]
  },
  {
   "cell_type": "markdown",
   "id": "f35aff16-5585-4a05-8cc5-27693b999907",
   "metadata": {},
   "source": [
    "Let's try to determine the position and magnitude of the peak of this dependence more precisely. To do this, we approximate the function $MAP@10(a_p)$ on the segment $[0, 1.0]$ using a polynomial function. After that, we find a point on this segment at which the derivative of this function is equal to zero. This will be the point of the approximate position of the peak. And then at that point we find the real value of the metric $MAP@10$."
   ]
  },
  {
   "cell_type": "code",
   "execution_count": 218,
   "id": "7ecea293-2862-4d2f-b51b-2963c0ba44cf",
   "metadata": {
    "tags": []
   },
   "outputs": [
    {
     "data": {
      "text/markdown": [
       "**Results**:<br>Filtering by product popularity gave a **small increase in accuracy** of predictions (the $MAP@10$ metric **increased** by only **0.000997** from 0.326484 to 0.327481) with the filtering rate $a_p$ equal to **0.365130**."
      ],
      "text/plain": [
       "<IPython.core.display.Markdown object>"
      ]
     },
     "execution_count": 218,
     "metadata": {},
     "output_type": "execute_result"
    }
   ],
   "source": [
    "md(\n",
    "    '**Results**:<br>'\n",
    "    'Filtering by product popularity gave a **small increase in accuracy** of predictions '\n",
    "    f'(the $MAP@10$ metric **increased** by only **{(total_map10 - cart_map10):.6f}** from {cart_map10:.6f} to {total_map10:.6f}) '\n",
    "    f'with the filtering rate $a_p$ equal to **{total_rate:.6f}**.'\n",
    ")"
   ]
  },
  {
   "cell_type": "markdown",
   "id": "c4bb23c5-e910-48dd-bb65-a80bbc9b88ce",
   "metadata": {
    "tags": []
   },
   "source": [
    "#### Filling in missing products"
   ]
  },
  {
   "cell_type": "markdown",
   "id": "a4bd5eeb-5939-4026-8278-4c836acb1ae2",
   "metadata": {},
   "source": [
    "In our model, we rated the customer's products that he had previously purchased. But we need to offer the customer a certain number of products. It is quite possible that he had previously purchased a smaller number of unique products. In this case, it makes sense to offer him products that are in high demand among other customers in addition to the products previously purchased by the customer. It is logical to assume that the customer should be offered products from those groups from which he had previously actively purchased products."
   ]
  },
  {
   "cell_type": "markdown",
   "id": "6388ebf0-c0cb-4137-8332-1865cdaee4c4",
   "metadata": {},
   "source": [
    "Let's check if our assumption is correct. To do this, we will determine the ranks of product groups for each customer in accordance with the total rating of the products included in this group:\n",
    "\n",
    "$$r_{u,a}=\\sum_{i \\in I_a}r_{u,i},$$\n",
    "where&nbsp;$r_{u,i}$ is the rating of product with number $i$ for customer with number $u$;  \n",
    "&nbsp;&nbsp;&nbsp;&nbsp;&nbsp;&nbsp;&nbsp;&nbsp;&nbsp;&nbsp;&nbsp;$I_a$ are the product numbers in product group with number $a$ ($a \\in A$, where $A$ is the set of product group numbers, $I_a \\in I$, where $I$ is the set of product numbers)."
   ]
  },
  {
   "cell_type": "markdown",
   "id": "99289543-de29-4dc3-bfbe-f950e3a16871",
   "metadata": {},
   "source": [
    "In each group, we rank products based on their global ratings $r^g_i$."
   ]
  },
  {
   "cell_type": "code",
   "execution_count": 219,
   "id": "d4ca6494-207a-4226-b508-95718dd73ae1",
   "metadata": {},
   "outputs": [],
   "source": [
    "ratings = f.get_ratings(f.get_weights(prior_transactions, days_rate=days_rate, cart_rate=cart_rate))\n",
    "aisle_ranks = f.get_aisle_ranks(ratings, products)\n",
    "inside_aisle_ranks = f.get_inside_aisle_ranks(ratings, products)"
   ]
  },
  {
   "cell_type": "markdown",
   "id": "69053939-534b-46e5-9c4d-284a515ea569",
   "metadata": {},
   "source": [
    "Then we'll find a list of the latest products purchased by customers that were mistakenly not included in the recommendations."
   ]
  },
  {
   "cell_type": "code",
   "execution_count": 220,
   "id": "3c787a28-fc4b-4044-9e1c-7685e68f8623",
   "metadata": {},
   "outputs": [],
   "source": [
    "prediction = f.get_prediction(\n",
    "    f.get_ratings(f.get_weights(prior_transactions, days_rate=days_rate, cart_rate=cart_rate), total_rate=total_rate))\n",
    "missed_last_products = last_transactions\\\n",
    "    .merge(prediction, on=['user_id', 'product_id'], how='left')\n",
    "missed_last_products = missed_last_products.loc[missed_last_products['rating'].isna()]\\\n",
    "    .reset_index(drop=True).drop(columns='rating')"
   ]
  },
  {
   "cell_type": "markdown",
   "id": "69d12b94-ad96-4e2d-b18d-3be9d1743d1f",
   "metadata": {},
   "source": [
    "Next, let's look at the distribution of these obtained ranks among the most recently purchased products by customers that were not included in the recommendations."
   ]
  },
  {
   "cell_type": "code",
   "execution_count": 221,
   "id": "1664a10c-8cd5-488d-b359-25ab18b88fdd",
   "metadata": {},
   "outputs": [],
   "source": [
    "missed_last_products = missed_last_products.merge(products[['product_id', 'aisle_id']], on='product_id', how='left')\n",
    "missed_last_products = missed_last_products.merge(aisle_ranks, on=['user_id', 'aisle_id'], how='left')\n",
    "missed_last_products = missed_last_products.merge(inside_aisle_ranks, on=['product_id', 'aisle_id'], how='left')\n",
    "\n",
    "# Saving data\n",
    "save_data(missed_last_products, 'missed_last_products.dmp')"
   ]
  },
  {
   "cell_type": "code",
   "execution_count": 222,
   "id": "a8f40ff4-ae98-4b65-9738-8b1fe4b69d8f",
   "metadata": {
    "tags": []
   },
   "outputs": [
    {
     "data": {
      "image/png": "[encoded data removed]",
      "text/plain": [
       "<Figure size 1300x400 with 2 Axes>"
      ]
     },
     "metadata": {},
     "output_type": "display_data"
    }
   ],
   "source": [
    "_, (ax1, ax2) = plt.subplots(1, 2, figsize=(13, 4))\n",
    "missed_last_products['aisle_rank'].plot(\n",
    "    ax=ax1, kind='hist', bins=int(missed_last_products['aisle_rank'].max()),\n",
    "    title='Distribution of group rank among\\n'\n",
    "    'last purchased products that were not included in recommendations',\n",
    "    grid=True, fontsize=10, legend=False, alpha=0.75)\n",
    "ax1.set_xlabel('Rank')\n",
    "ax1.set_ylabel('Number of products')\n",
    "_ = ax1.set_xlim(1, 25)\n",
    "missed_last_products['inside_aisle_rank'].plot(\n",
    "    ax=ax2, kind='hist', bins=int(missed_last_products['inside_aisle_rank'].max()),\n",
    "    title='Distribution of rank within the group among\\n'\n",
    "    'last purchased products that were not included in the recommendations',\n",
    "    grid=True, fontsize=10, legend=False, alpha=0.75)\n",
    "ax2.set_xlabel('Rank')\n",
    "ax2.set_ylabel('Number of products')\n",
    "_ = ax2.set_xlim(1, 25)"
   ]
  },
  {
   "cell_type": "markdown",
   "id": "0c23f16b-9bbc-4b27-b95d-6d1dcdcde183",
   "metadata": {},
   "source": [
    "The histograms show that the assumption has a right to exist, since a significant portion of the products that were mistakenly not included in the recommendations belong to high-ranking groups and have a high rank in their groups."
   ]
  },
  {
   "cell_type": "markdown",
   "id": "ee11905b-d0e3-4a46-a39e-ca99c93ad6f3",
   "metadata": {},
   "source": [
    "Let's check what effect this filling has on training data."
   ]
  },
  {
   "cell_type": "code",
   "execution_count": 237,
   "id": "a5c85e05-8ce4-4d26-a163-5cb81611e756",
   "metadata": {},
   "outputs": [
    {
     "data": {
      "text/html": [
       "<div>\n",
       "<style scoped>\n",
       "    .dataframe tbody tr th:only-of-type {\n",
       "        vertical-align: middle;\n",
       "    }\n",
       "\n",
       "    .dataframe tbody tr th {\n",
       "        vertical-align: top;\n",
       "    }\n",
       "\n",
       "    .dataframe thead th {\n",
       "        text-align: right;\n",
       "    }\n",
       "</style>\n",
       "<table border=\"1\" class=\"dataframe\">\n",
       "  <thead>\n",
       "    <tr style=\"text-align: right;\">\n",
       "      <th></th>\n",
       "      <th>range</th>\n",
       "      <th>number_of_products</th>\n",
       "      <th>aisle_rank</th>\n",
       "    </tr>\n",
       "  </thead>\n",
       "  <tbody>\n",
       "    <tr>\n",
       "      <th>0</th>\n",
       "      <td>[1, 2)</td>\n",
       "      <td>89873</td>\n",
       "      <td>1.5</td>\n",
       "    </tr>\n",
       "    <tr>\n",
       "      <th>1</th>\n",
       "      <td>[2, 3)</td>\n",
       "      <td>61822</td>\n",
       "      <td>2.5</td>\n",
       "    </tr>\n",
       "    <tr>\n",
       "      <th>2</th>\n",
       "      <td>[3, 4)</td>\n",
       "      <td>42902</td>\n",
       "      <td>3.5</td>\n",
       "    </tr>\n",
       "    <tr>\n",
       "      <th>3</th>\n",
       "      <td>[4, 5)</td>\n",
       "      <td>32876</td>\n",
       "      <td>4.5</td>\n",
       "    </tr>\n",
       "    <tr>\n",
       "      <th>4</th>\n",
       "      <td>[5, 6)</td>\n",
       "      <td>27011</td>\n",
       "      <td>5.5</td>\n",
       "    </tr>\n",
       "    <tr>\n",
       "      <th>...</th>\n",
       "      <td>...</td>\n",
       "      <td>...</td>\n",
       "      <td>...</td>\n",
       "    </tr>\n",
       "    <tr>\n",
       "      <th>95</th>\n",
       "      <td>[95, 96)</td>\n",
       "      <td>0</td>\n",
       "      <td>95.5</td>\n",
       "    </tr>\n",
       "    <tr>\n",
       "      <th>96</th>\n",
       "      <td>[96, 97)</td>\n",
       "      <td>0</td>\n",
       "      <td>96.5</td>\n",
       "    </tr>\n",
       "    <tr>\n",
       "      <th>97</th>\n",
       "      <td>[97, 98)</td>\n",
       "      <td>0</td>\n",
       "      <td>97.5</td>\n",
       "    </tr>\n",
       "    <tr>\n",
       "      <th>98</th>\n",
       "      <td>[99, 100)</td>\n",
       "      <td>0</td>\n",
       "      <td>99.5</td>\n",
       "    </tr>\n",
       "    <tr>\n",
       "      <th>99</th>\n",
       "      <td>[100, 101)</td>\n",
       "      <td>0</td>\n",
       "      <td>100.5</td>\n",
       "    </tr>\n",
       "  </tbody>\n",
       "</table>\n",
       "<p>100 rows × 3 columns</p>\n",
       "</div>"
      ],
      "text/plain": [
       "         range  number_of_products  aisle_rank\n",
       "0       [1, 2)               89873         1.5\n",
       "1       [2, 3)               61822         2.5\n",
       "2       [3, 4)               42902         3.5\n",
       "3       [4, 5)               32876         4.5\n",
       "4       [5, 6)               27011         5.5\n",
       "..         ...                 ...         ...\n",
       "95    [95, 96)                   0        95.5\n",
       "96    [96, 97)                   0        96.5\n",
       "97    [97, 98)                   0        97.5\n",
       "98   [99, 100)                   0        99.5\n",
       "99  [100, 101)                   0       100.5\n",
       "\n",
       "[100 rows x 3 columns]"
      ]
     },
     "execution_count": 237,
     "metadata": {},
     "output_type": "execute_result"
    }
   ],
   "source": [
    "bins = [\n",
    "    pd.Interval(left=left, right=left+1, closed='left') \n",
    "    for left in range(int(np.floor(missed_last_products['aisle_rank'].min())), int(np.ceil(missed_last_products['aisle_rank'].max())))  \n",
    "]\n",
    "plot_data = missed_last_products['aisle_rank'].value_counts(bins=bins).reset_index(name='number_of_products')\n",
    "plot_data.rename(columns={'index': 'range'}, inplace=True)\n",
    "plot_data['aisle_rank'] = plot_data['range'].map(lambda interval: (interval.left + interval.right) / 2)\n",
    "plot_data"
   ]
  },
  {
   "cell_type": "code",
   "execution_count": 238,
   "id": "0c461ec3-1290-4fcd-a4de-4e60af95b5c0",
   "metadata": {},
   "outputs": [],
   "source": [
    "save_data(plot_data, 'plot_aisle_rank_hist_data.dmp')"
   ]
  },
  {
   "cell_type": "code",
   "execution_count": 223,
   "id": "2e16e481-b930-41c8-ac57-a977ca52ffa4",
   "metadata": {},
   "outputs": [],
   "source": [
    "prediction = f.get_prediction(\n",
    "    f.get_ratings(f.get_weights(prior_transactions, days_rate=days_rate, cart_rate=cart_rate), total_rate=total_rate))\n",
    "filled_up_prediction = f.fill_up_prediction(prediction, aisle_ranks, inside_aisle_ranks)\n",
    "filled_up_map10 = f.get_prediction_precision(last_products, filled_up_prediction)"
   ]
  },
  {
   "cell_type": "code",
   "execution_count": 239,
   "id": "a5e2fe48-21cb-472a-b49c-e972c8fad568",
   "metadata": {},
   "outputs": [
    {
     "data": {
      "text/html": [
       "<div>\n",
       "<style scoped>\n",
       "    .dataframe tbody tr th:only-of-type {\n",
       "        vertical-align: middle;\n",
       "    }\n",
       "\n",
       "    .dataframe tbody tr th {\n",
       "        vertical-align: top;\n",
       "    }\n",
       "\n",
       "    .dataframe thead th {\n",
       "        text-align: right;\n",
       "    }\n",
       "</style>\n",
       "<table border=\"1\" class=\"dataframe\">\n",
       "  <thead>\n",
       "    <tr style=\"text-align: right;\">\n",
       "      <th></th>\n",
       "      <th>range</th>\n",
       "      <th>number_of_products</th>\n",
       "      <th>inside_aisle_rank</th>\n",
       "    </tr>\n",
       "  </thead>\n",
       "  <tbody>\n",
       "    <tr>\n",
       "      <th>0</th>\n",
       "      <td>[1, 2)</td>\n",
       "      <td>54761</td>\n",
       "      <td>1.5</td>\n",
       "    </tr>\n",
       "    <tr>\n",
       "      <th>1</th>\n",
       "      <td>[2, 3)</td>\n",
       "      <td>37820</td>\n",
       "      <td>2.5</td>\n",
       "    </tr>\n",
       "    <tr>\n",
       "      <th>2</th>\n",
       "      <td>[3, 4)</td>\n",
       "      <td>33927</td>\n",
       "      <td>3.5</td>\n",
       "    </tr>\n",
       "    <tr>\n",
       "      <th>3</th>\n",
       "      <td>[4, 5)</td>\n",
       "      <td>27352</td>\n",
       "      <td>4.5</td>\n",
       "    </tr>\n",
       "    <tr>\n",
       "      <th>4</th>\n",
       "      <td>[6, 7)</td>\n",
       "      <td>24355</td>\n",
       "      <td>6.5</td>\n",
       "    </tr>\n",
       "    <tr>\n",
       "      <th>...</th>\n",
       "      <td>...</td>\n",
       "      <td>...</td>\n",
       "      <td>...</td>\n",
       "    </tr>\n",
       "    <tr>\n",
       "      <th>1236</th>\n",
       "      <td>[1112, 1113)</td>\n",
       "      <td>0</td>\n",
       "      <td>1112.5</td>\n",
       "    </tr>\n",
       "    <tr>\n",
       "      <th>1237</th>\n",
       "      <td>[1114, 1115)</td>\n",
       "      <td>0</td>\n",
       "      <td>1114.5</td>\n",
       "    </tr>\n",
       "    <tr>\n",
       "      <th>1238</th>\n",
       "      <td>[1115, 1116)</td>\n",
       "      <td>0</td>\n",
       "      <td>1115.5</td>\n",
       "    </tr>\n",
       "    <tr>\n",
       "      <th>1239</th>\n",
       "      <td>[1118, 1119)</td>\n",
       "      <td>0</td>\n",
       "      <td>1118.5</td>\n",
       "    </tr>\n",
       "    <tr>\n",
       "      <th>1240</th>\n",
       "      <td>[1241, 1242)</td>\n",
       "      <td>0</td>\n",
       "      <td>1241.5</td>\n",
       "    </tr>\n",
       "  </tbody>\n",
       "</table>\n",
       "<p>1241 rows × 3 columns</p>\n",
       "</div>"
      ],
      "text/plain": [
       "             range  number_of_products  inside_aisle_rank\n",
       "0           [1, 2)               54761                1.5\n",
       "1           [2, 3)               37820                2.5\n",
       "2           [3, 4)               33927                3.5\n",
       "3           [4, 5)               27352                4.5\n",
       "4           [6, 7)               24355                6.5\n",
       "...            ...                 ...                ...\n",
       "1236  [1112, 1113)                   0             1112.5\n",
       "1237  [1114, 1115)                   0             1114.5\n",
       "1238  [1115, 1116)                   0             1115.5\n",
       "1239  [1118, 1119)                   0             1118.5\n",
       "1240  [1241, 1242)                   0             1241.5\n",
       "\n",
       "[1241 rows x 3 columns]"
      ]
     },
     "execution_count": 239,
     "metadata": {},
     "output_type": "execute_result"
    }
   ],
   "source": [
    "bins = [\n",
    "    pd.Interval(left=left, right=left+1, closed='left') \n",
    "    for left in range(int(np.floor(missed_last_products['inside_aisle_rank'].min())), int(np.ceil(missed_last_products['inside_aisle_rank'].max())))  \n",
    "]\n",
    "plot_data = missed_last_products['inside_aisle_rank'].value_counts(bins=bins).reset_index(name='number_of_products')\n",
    "plot_data.rename(columns={'index': 'range'}, inplace=True)\n",
    "plot_data['inside_aisle_rank'] = plot_data['range'].map(lambda interval: (interval.left + interval.right) / 2)\n",
    "plot_data"
   ]
  },
  {
   "cell_type": "code",
   "execution_count": 240,
   "id": "73ac66f9-c5e5-45fc-8c22-d7b622dee2f6",
   "metadata": {},
   "outputs": [],
   "source": [
    "save_data(plot_data, 'plot_in_aisle_rank_hist_data.dmp')"
   ]
  },
  {
   "cell_type": "code",
   "execution_count": 224,
   "id": "21c7241a-dc1b-4a80-8918-d18f451c3444",
   "metadata": {
    "tags": []
   },
   "outputs": [
    {
     "data": {
      "text/markdown": [
       "**Results**:<br>Adding popular products from popular groups to predictions gave a **minor increase in the accuracy** of predictions (the $MAP@10$ metric **increased** by only **0.000005** from 0.327481 to 0.327486)."
      ],
      "text/plain": [
       "<IPython.core.display.Markdown object>"
      ]
     },
     "execution_count": 224,
     "metadata": {},
     "output_type": "execute_result"
    }
   ],
   "source": [
    "md(\n",
    "    '**Results**:<br>'\n",
    "    'Adding popular products from popular groups to predictions gave a **minor increase in the accuracy** of predictions '\n",
    "    f'(the $MAP@10$ metric **increased** by only **{(filled_up_map10 - total_map10):.6f}** from {total_map10:.6f} to {filled_up_map10:.6f}).'\n",
    ")"
   ]
  },
  {
   "cell_type": "code",
   "execution_count": 282,
   "id": "45b16d79-a46a-4c65-87f8-37e3880df033",
   "metadata": {},
   "outputs": [],
   "source": [
    "# Saving data\n",
    "save_data(filled_up_map10, 'filled_up_map10.dmp')"
   ]
  },
  {
   "cell_type": "markdown",
   "id": "65b6197f-992b-440d-a58d-cb0a7e5d604a",
   "metadata": {
    "tags": []
   },
   "source": [
    "### Testing the recommendation model"
   ]
  },
  {
   "cell_type": "code",
   "execution_count": 255,
   "id": "b531cdd4-df6a-454b-ab60-9dfc90d586be",
   "metadata": {
    "tags": []
   },
   "outputs": [
    {
     "data": {
      "text/markdown": [
       "We will test the model on the full set of transactions with successive addition of transaction filters, just like during training. First, we will find the accuracy of predictions using only frequency filtering. Then we will add time filtering. Then we will additionally apply filtering by the number of adding a product to the cart. Then we will additionally apply filtering by popularity. And at the last stage we will apply filling. We will send the results for verification to the **Kaggle** platform as a solution for the \"**skillbox-recommender-system**\" competition."
      ],
      "text/plain": [
       "<IPython.core.display.Markdown object>"
      ]
     },
     "execution_count": 255,
     "metadata": {},
     "output_type": "execute_result"
    }
   ],
   "source": [
    "md(\n",
    "    'We will test the model on the full set of transactions with successive addition of transaction filters, just like during training. '\n",
    "    'First, we will find the accuracy of predictions using only frequency filtering. Then we will add time filtering. '\n",
    "    'Then we will additionally apply filtering by the number of adding a product to the cart. '\n",
    "    'Then we will additionally apply filtering by popularity. And at the last stage we will apply filling. '\n",
    "    f'We will send the results for verification to the **Kaggle** platform as a solution for the \"**{COMPETITION}**\" competition.'\n",
    ")"
   ]
  },
  {
   "cell_type": "code",
   "execution_count": 256,
   "id": "f02c4146-7b99-4122-b712-d8a6dc1233a2",
   "metadata": {
    "tags": []
   },
   "outputs": [],
   "source": [
    "if not EVAL_PATH.exists():\n",
    "    EVAL_PATH.mkdir()"
   ]
  },
  {
   "cell_type": "code",
   "execution_count": 257,
   "id": "ddfe177f-970d-4cfc-ae20-29c563386f30",
   "metadata": {
    "tags": []
   },
   "outputs": [],
   "source": [
    "tests = pd.DataFrame(\n",
    "    [\n",
    "        ['Frequency filtering', 1, 0, 0, 0, 0],\n",
    "        ['Frequency and time filtering', 1, 1, 0, 0, 0],\n",
    "        ['Frequency, time and product addition number filtering', 1, 1, 1, 0, 0],\n",
    "        ['Full set of filtering', 1, 1, 1, 1, 0],\n",
    "        ['Full set of filtering and filling', 1, 1, 1, 1, 1]\n",
    "    ],\n",
    "    columns = ['description', 'frequency_filtering', 'days_filtering', 'cart_filtering', 'popularity_filtering', 'filling_up']\n",
    ")\n",
    "tests['file_name'] = tests[['frequency_filtering', 'days_filtering', 'cart_filtering', 'popularity_filtering', 'filling_up']]\\\n",
    "     .apply(lambda params: '_'.join([column for param, column in zip(params, params.index) if param]) + '.csv', axis=1)"
   ]
  },
  {
   "cell_type": "code",
   "execution_count": 258,
   "id": "3f9fe88c-2257-417e-834c-7f7fdb60018f",
   "metadata": {
    "tags": []
   },
   "outputs": [],
   "source": [
    "transactions = prior_transactions.copy()\n",
    "transactions['days_before_last_order'] += transactions['days_before_last_order_shift']\n",
    "transactions = pd.concat([transactions, last_transactions])\n",
    "for _, (\n",
    "    days_filtering, cart_filtering, popularity_filtering, filling_up, file_name\n",
    ") in tests[['days_filtering', 'cart_filtering', 'popularity_filtering', 'filling_up', 'file_name']].iterrows():\n",
    "    prediction = f.get_prediction(\n",
    "        f.get_ratings(\n",
    "            f.get_weights(\n",
    "                transactions, \n",
    "                days_rate=days_rate if days_filtering else 0., \n",
    "                cart_rate=cart_rate if cart_filtering else 0.\n",
    "            ), \n",
    "            total_rate=total_rate if popularity_filtering else 0.\n",
    "        ), \n",
    "    )\n",
    "    if filling_up:\n",
    "        ratings = f.get_ratings(f.get_weights(prior_transactions, days_rate=days_rate, cart_rate=cart_rate))\n",
    "        aisle_ranks = f.get_aisle_ranks(ratings, products)\n",
    "        inside_aisle_ranks = f.get_inside_aisle_ranks(ratings, products)\n",
    "        prediction = f.fill_up_prediction(prediction, aisle_ranks, inside_aisle_ranks)\n",
    "    f.save_kaggle_submission_csv(\n",
    "        prediction,\n",
    "        EVAL_PATH / file_name\n",
    "    )"
   ]
  },
  {
   "cell_type": "code",
   "execution_count": 259,
   "id": "30898941-8a2f-4c5a-986e-c6538998f4cd",
   "metadata": {
    "tags": []
   },
   "outputs": [
    {
     "name": "stdout",
     "output_type": "stream",
     "text": [
      "1/5: Sending file \"D:/skillbox-recommender-system/eval/frequency_filtering.csv\" of submission \"Frequency filtering\" to competition \"skillbox-recommender-system\"...\n",
      "1/5: Successfully submitted.\n",
      "2/5: Sending file \"D:/skillbox-recommender-system/eval/frequency_filtering_days_filtering.csv\" of submission \"Frequency and time filtering\" to competition \"skillbox-recommender-system\"...\n",
      "2/5: Successfully submitted.\n",
      "3/5: Sending file \"D:/skillbox-recommender-system/eval/frequency_filtering_days_filtering_cart_filtering.csv\" of submission \"Frequency, time and product addition number filtering\" to competition \"skillbox-recommender-system\"...\n",
      "3/5: Successfully submitted.\n",
      "4/5: Sending file \"D:/skillbox-recommender-system/eval/frequency_filtering_days_filtering_cart_filtering_popularity_filtering.csv\" of submission \"Full set of filtering\" to competition \"skillbox-recommender-system\"...\n",
      "4/5: Successfully submitted.\n",
      "5/5: Sending file \"D:/skillbox-recommender-system/eval/frequency_filtering_days_filtering_cart_filtering_popularity_filtering_filling_up.csv\" of submission \"Full set of filtering and filling\" to competition \"skillbox-recommender-system\"...\n",
      "5/5: Successfully submitted.\n",
      "--------------------------------------------------------\n",
      "5 out of 5 submission files have been successfully sent.\n",
      "\n",
      "Receiving data from Kaggle...\n",
      "Data received. Waiting for submissions pending complete...\n",
      "Data received.\n",
      "5 out of 5 submission results have been received.\n"
     ]
    }
   ],
   "source": [
    "kaggle.send_submission_files(EVAL_PATH.as_posix() + '/' + tests['file_name'], tests['description'])\n",
    "test_results = kaggle.receive_submission_scores(tests['description'])\n",
    "test_results['meanScore'] = test_results[['publicScore', 'privateScore']].mean(axis=1)\n",
    "test_results['rank'] = test_results['meanScore'].rank().astype(int)"
   ]
  },
  {
   "cell_type": "code",
   "execution_count": 260,
   "id": "8f839640-439d-4461-93a1-aff4f28872f3",
   "metadata": {
    "tags": []
   },
   "outputs": [
    {
     "data": {
      "image/png": "[encoded data removed]",
      "text/plain": [
       "<Figure size 600x200 with 1 Axes>"
      ]
     },
     "metadata": {},
     "output_type": "display_data"
    }
   ],
   "source": [
    "test_results['color'] = '#1f77b4'\n",
    "test_results.at[test_results['meanScore'].idxmax(), 'color'] = '#ff7f0e'\n",
    "ax = test_results.plot(\n",
    "    kind='barh', x='description', y='meanScore', color=test_results['color'], \n",
    "    title={}, xlabel='',\n",
    "    figsize=(6, 2), grid=True, fontsize=10, legend=False, alpha=0.75)\n",
    "ax.set_xlabel('$MAP@10$')\n",
    "_ = ax.set_xlim(0.27, 0.33)"
   ]
  },
  {
   "cell_type": "code",
   "execution_count": 261,
   "id": "39ea523b-5523-405a-8698-dc4983df28c5",
   "metadata": {
    "tags": []
   },
   "outputs": [
    {
     "data": {
      "text/html": [
       "<style type=\"text/css\">\n",
       "#T_f113a_row4_col0, #T_f113a_row4_col1, #T_f113a_row4_col2 {\n",
       "  background-color: #FF9F4A;\n",
       "}\n",
       "</style>\n",
       "<table id=\"T_f113a\">\n",
       "  <thead>\n",
       "    <tr>\n",
       "      <th class=\"blank level0\" >&nbsp;</th>\n",
       "      <th id=\"T_f113a_level0_col0\" class=\"col_heading level0 col0\" >publicScore</th>\n",
       "      <th id=\"T_f113a_level0_col1\" class=\"col_heading level0 col1\" >privateScore</th>\n",
       "      <th id=\"T_f113a_level0_col2\" class=\"col_heading level0 col2\" >meanScore</th>\n",
       "    </tr>\n",
       "    <tr>\n",
       "      <th class=\"index_name level0\" >description</th>\n",
       "      <th class=\"blank col0\" >&nbsp;</th>\n",
       "      <th class=\"blank col1\" >&nbsp;</th>\n",
       "      <th class=\"blank col2\" >&nbsp;</th>\n",
       "    </tr>\n",
       "  </thead>\n",
       "  <tbody>\n",
       "    <tr>\n",
       "      <th id=\"T_f113a_level0_row0\" class=\"row_heading level0 row0\" >Frequency filtering</th>\n",
       "      <td id=\"T_f113a_row0_col0\" class=\"data row0 col0\" >0.278240</td>\n",
       "      <td id=\"T_f113a_row0_col1\" class=\"data row0 col1\" >0.276620</td>\n",
       "      <td id=\"T_f113a_row0_col2\" class=\"data row0 col2\" >0.277430</td>\n",
       "    </tr>\n",
       "    <tr>\n",
       "      <th id=\"T_f113a_level0_row1\" class=\"row_heading level0 row1\" >Frequency and time filtering</th>\n",
       "      <td id=\"T_f113a_row1_col0\" class=\"data row1 col0\" >0.326430</td>\n",
       "      <td id=\"T_f113a_row1_col1\" class=\"data row1 col1\" >0.324390</td>\n",
       "      <td id=\"T_f113a_row1_col2\" class=\"data row1 col2\" >0.325410</td>\n",
       "    </tr>\n",
       "    <tr>\n",
       "      <th id=\"T_f113a_level0_row2\" class=\"row_heading level0 row2\" >Frequency, time and product addition number filtering</th>\n",
       "      <td id=\"T_f113a_row2_col0\" class=\"data row2 col0\" >0.327320</td>\n",
       "      <td id=\"T_f113a_row2_col1\" class=\"data row2 col1\" >0.325430</td>\n",
       "      <td id=\"T_f113a_row2_col2\" class=\"data row2 col2\" >0.326375</td>\n",
       "    </tr>\n",
       "    <tr>\n",
       "      <th id=\"T_f113a_level0_row3\" class=\"row_heading level0 row3\" >Full set of filtering</th>\n",
       "      <td id=\"T_f113a_row3_col0\" class=\"data row3 col0\" >0.328210</td>\n",
       "      <td id=\"T_f113a_row3_col1\" class=\"data row3 col1\" >0.326390</td>\n",
       "      <td id=\"T_f113a_row3_col2\" class=\"data row3 col2\" >0.327300</td>\n",
       "    </tr>\n",
       "    <tr>\n",
       "      <th id=\"T_f113a_level0_row4\" class=\"row_heading level0 row4\" >Full set of filtering and filling</th>\n",
       "      <td id=\"T_f113a_row4_col0\" class=\"data row4 col0\" >0.328220</td>\n",
       "      <td id=\"T_f113a_row4_col1\" class=\"data row4 col1\" >0.326400</td>\n",
       "      <td id=\"T_f113a_row4_col2\" class=\"data row4 col2\" >0.327310</td>\n",
       "    </tr>\n",
       "  </tbody>\n",
       "</table>\n"
      ],
      "text/plain": [
       "<pandas.io.formats.style.Styler at 0x1cebccf62d0>"
      ]
     },
     "execution_count": 261,
     "metadata": {},
     "output_type": "execute_result"
    }
   ],
   "source": [
    "test_results.set_index('description')[['publicScore', 'privateScore', 'meanScore']].style.highlight_max(color='#FF9F4A')"
   ]
  },
  {
   "cell_type": "code",
   "execution_count": 262,
   "id": "91641ca9-96f8-4599-81a9-5101bbd58bf3",
   "metadata": {},
   "outputs": [],
   "source": [
    "save_data(test_results, 'test_results.dmp')"
   ]
  },
  {
   "cell_type": "code",
   "execution_count": 263,
   "id": "2fa5935b-c471-4839-aa0c-e2ea5b39f299",
   "metadata": {
    "tags": []
   },
   "outputs": [],
   "source": [
    "best_map10 = test_results['meanScore'].max()\n",
    "best_params = test_results.at[test_results['meanScore'].idxmax(), 'description']"
   ]
  },
  {
   "cell_type": "code",
   "execution_count": 264,
   "id": "9604099d-8985-40dc-aba2-fdc36f275dbc",
   "metadata": {
    "tags": []
   },
   "outputs": [
    {
     "data": {
      "text/markdown": [
       "**Conclusions:**<br>1. Simple filtering by purchase frequency already provides the required prediction accuracy ($0.277430 > 0.25$). Other types of filtering significantly improve the result (up to $0.327310$). The main increase in accuracy was provided by filtering by purchase time ($+0.047980$). We also added a little filtering by the number of the product added to the cart and its popularity ($+0.000965$ and $+0.000925$ respectively). But filling made an insignificant contribution $+0.000010$).<br>2. The accuracy of the model's predictions on test data ($0.327310$) is comparable to the accuracy shown during validation on training data ($0.327486$). This means that the **algorithm** of the model is **quite functional**, and the **model itself is well trained**."
      ],
      "text/plain": [
       "<IPython.core.display.Markdown object>"
      ]
     },
     "execution_count": 264,
     "metadata": {},
     "output_type": "execute_result"
    }
   ],
   "source": [
    "md(\n",
    "    '**Conclusions:**<br>'\n",
    "    '1. Simple filtering by purchase frequency already provides the required prediction accuracy '\n",
    "    f'(${test_results.at[0, \"meanScore\"]:.6f} > 0.20954$). '\n",
    "    f'Other types of filtering significantly improve the result (up to ${test_results.at[4, \"meanScore\"]:.6f}$). '\n",
    "    f'The main increase in accuracy was provided by filtering by purchase time ($+{(test_results.at[1, \"meanScore\"] - test_results.at[0, \"meanScore\"]):.6f}$). '\n",
    "    f'We also added a little filtering by the number of the product added to the cart and its popularity '\n",
    "    f'($+{(test_results.at[2, \"meanScore\"] - test_results.at[1, \"meanScore\"]):.6f}$ and '\n",
    "    f'$+{(test_results.at[3, \"meanScore\"] - test_results.at[2, \"meanScore\"]):.6f}$ respectively). '\n",
    "    f'But filling made an insignificant contribution '\n",
    "    f'$+{(test_results.at[4, \"meanScore\"] - test_results.at[3, \"meanScore\"]):.6f}$).<br>'\n",
    "    f'2. The accuracy of the model\\'s predictions on test data (${test_results.at[4, \"meanScore\"]:.6f}$) '\n",
    "    f'is comparable to the accuracy shown during validation on training data (${filled_up_map10:.6f}$). '\n",
    "    'This means that the **algorithm** of the model is **quite functional**, and the **model itself is well trained**.'\n",
    ")"
   ]
  },
  {
   "cell_type": "raw",
   "id": "1183f31b-0d99-476a-8a82-e6e240a8f820",
   "metadata": {},
   "source": [
    "    for file_name in [\n",
    "        'frequency_ratings.dmp',\n",
    "        'frequency_map_10.dmp',\n",
    "        'days_rate.dmp',\n",
    "        'days_weights.dmp',\n",
    "        'days_ratings.dmp',\n",
    "        'days_map10.dmp',\n",
    "        'map10_days.dmp',\n",
    "        'map10_days_approximated.dmp',\n",
    "        'cart_rate.dmp',\n",
    "        'cart_weights.dmp',\n",
    "        'cart_ratings.dmp',\n",
    "        'cart_map10.dmp',\n",
    "        'map10_cart.dmp',\n",
    "        'map10_cart_pred.dmp',\n",
    "        'total_rate.dmp',\n",
    "        'total_weights.dmp',\n",
    "        'total_ratings.dmp',\n",
    "        'total_map10.dmp',\n",
    "        'map10_total.dmp',\n",
    "        'map10_total_pred.dmp',\n",
    "        'missed_last_products.dmp',\n",
    "        'test_results.dmp',\n",
    "        'products_reordering.dmp',\n",
    "        'products_reordering_percentages.dmp',\n",
    "        'prediction.dmp',\n",
    "        'filled_up_prediction.dmp',\n",
    "        'filled_up_map10.dmp',\n",
    "    ]:\n"
   ]
  }
 ],
 "metadata": {
  "kernelspec": {
   "display_name": "Python 3 (ipykernel)",
   "language": "python",
   "name": "python3"
  },
  "language_info": {
   "codemirror_mode": {
    "name": "ipython",
    "version": 3
   },
   "file_extension": ".py",
   "mimetype": "text/x-python",
   "name": "python",
   "nbconvert_exporter": "python",
   "pygments_lexer": "ipython3",
   "version": "3.11.9"
  },
  "widgets": {
   "application/vnd.jupyter.widget-state+json": {
    "state": {},
    "version_major": 2,
    "version_minor": 0
   }
  }
 },
 "nbformat": 4,
 "nbformat_minor": 5
}
